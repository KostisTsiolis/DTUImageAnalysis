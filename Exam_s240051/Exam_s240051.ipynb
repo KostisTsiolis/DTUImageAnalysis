{
 "cells": [
  {
   "cell_type": "code",
   "id": "initial_id",
   "metadata": {
    "collapsed": true,
    "ExecuteTime": {
     "end_time": "2025-05-20T07:06:47.570460Z",
     "start_time": "2025-05-20T07:06:47.517784Z"
    }
   },
   "source": [
    "import numpy as np\n",
    "from scipy.ndimage import center_of_mass\n",
    "import imageio.v2 as imageio\n",
    "\n",
    "\n",
    "image = imageio.imread('exam_02502_f2025_data/pedestrian/CarTraining_Landmarks.png')\n",
    "\n",
    "\n",
    "human1_landmarks = []\n",
    "human2_landmarks = []\n",
    "\n",
    "for i in range(1, 5):\n",
    "    coords = center_of_mass(image == i)\n",
    "    human1_landmarks.append(coords)\n",
    "\n",
    "for i in range(5, 9):\n",
    "    coords = center_of_mass(image == i)\n",
    "    human2_landmarks.append(coords)\n",
    "\n",
    "\n",
    "A = np.array(human1_landmarks)\n",
    "B = np.array(human2_landmarks)\n",
    "\n",
    "\n",
    "translation = np.mean(B - A, axis=0)\n",
    "\n",
    "\n",
    "A_translated = A + translation\n",
    "\n",
    "\n",
    "ssd = np.sum(np.linalg.norm(A_translated - B, axis=1) ** 2)\n",
    "\n",
    "print(\"Sum of Squared Distances (SSD) after optimal translation:\", ssd)\n"
   ],
   "outputs": [
    {
     "name": "stdout",
     "output_type": "stream",
     "text": [
      "Sum of Squared Distances (SSD) after optimal translation: 2081.3571788258905\n"
     ]
    }
   ],
   "execution_count": 3
  },
  {
   "metadata": {},
   "cell_type": "markdown",
   "source": "Q2",
   "id": "65d1b1915850df12"
  },
  {
   "metadata": {
    "ExecuteTime": {
     "end_time": "2025-05-20T08:15:43.200212Z",
     "start_time": "2025-05-20T08:15:43.143483Z"
    }
   },
   "cell_type": "code",
   "source": [
    "import numpy as np\n",
    "from scipy.ndimage import center_of_mass\n",
    "import imageio.v2 as imageio\n",
    "\n",
    "\n",
    "image = imageio.imread('exam_02502_f2025_data/pedestrian/CarTraining_Landmarks.png')\n",
    "\n",
    "\n",
    "human1_landmarks = []\n",
    "human2_landmarks = []\n",
    "\n",
    "for i in range(1, 5):\n",
    "    coords = center_of_mass(image == i)\n",
    "    human1_landmarks.append(coords)\n",
    "\n",
    "for i in range(5, 9):\n",
    "    coords = center_of_mass(image == i)\n",
    "    human2_landmarks.append(coords)\n",
    "\n",
    "\n",
    "A = np.array(human1_landmarks)\n",
    "B = np.array(human2_landmarks)\n",
    "\n",
    "\n",
    "translation = np.mean(B - A, axis=0)\n",
    "\n",
    "\n",
    "A_translated = A + translation\n",
    "\n",
    "\n",
    "ssd = np.sum(np.linalg.norm(A_translated - B, axis=1) ** 2)\n",
    "\n",
    "print(\"Sum of Squared Distances (SSD) after optimal translation:\", ssd)\n"
   ],
   "id": "e20fdfd031225624",
   "outputs": [
    {
     "name": "stdout",
     "output_type": "stream",
     "text": [
      "Sum of Squared Distances (SSD) after optimal translation: 2081.3571788258905\n"
     ]
    }
   ],
   "execution_count": 34
  },
  {
   "metadata": {
    "ExecuteTime": {
     "end_time": "2025-05-20T08:05:48.594692Z",
     "start_time": "2025-05-20T08:05:48.540571Z"
    }
   },
   "cell_type": "code",
   "source": [
    "import numpy as np\n",
    "import imageio.v2 as imageio\n",
    "from scipy.ndimage import center_of_mass\n",
    "\n",
    "\n",
    "img = imageio.imread(\"exam_02502_f2025_data/pedestrian/CarTraining_Landmarks.png\")\n",
    "\n",
    "\n",
    "landmark_coords = {}\n",
    "for i in range(1, 9):\n",
    "    coords = center_of_mass(img == i)\n",
    "    landmark_coords[i] = coords\n",
    "\n",
    "\n",
    "A = np.array([[landmark_coords[i][1], landmark_coords[i][0]] for i in range(1, 5)])\n",
    "B = np.array([[landmark_coords[i][1], landmark_coords[i][0]] for i in range(5, 9)])\n",
    "\n",
    "\n",
    "translation = np.mean(B, axis=0) - np.mean(A, axis=0)\n",
    "\n",
    "\n",
    "abs_tx = abs(translation[0])\n",
    "print(\"Absolute value of first component (t_x):\", abs_tx)\n"
   ],
   "id": "504da011c88bc4ea",
   "outputs": [
    {
     "name": "stdout",
     "output_type": "stream",
     "text": [
      "Absolute value of first component (t_x): 157.17205568794682\n"
     ]
    }
   ],
   "execution_count": 32
  },
  {
   "metadata": {},
   "cell_type": "markdown",
   "source": "Q3",
   "id": "347d761a29e5ad"
  },
  {
   "metadata": {
    "ExecuteTime": {
     "end_time": "2025-05-20T07:12:41.581710Z",
     "start_time": "2025-05-20T07:12:41.497417Z"
    }
   },
   "cell_type": "code",
   "source": [
    "import numpy as np\n",
    "import imageio.v2 as imageio\n",
    "from scipy.ndimage import map_coordinates\n",
    "from math import cos, sin, radians\n",
    "\n",
    "\n",
    "satellite = imageio.imread('exam_02502_f2025_data/satellite/Satellite_A.png').astype(float)\n",
    "roi_b = imageio.imread('exam_02502_f2025_data/satellite/ROI_B.png')\n",
    "\n",
    "\n",
    "coords_b = np.column_stack(np.nonzero(roi_b))\n",
    "\n",
    "\n",
    "scale_inv = np.array([\n",
    "    [2, 0, 0],\n",
    "    [0, 2, 0],\n",
    "    [0, 0, 1]\n",
    "])\n",
    "\n",
    "\n",
    "theta = radians(10)\n",
    "rot_inv = np.array([\n",
    "    [cos(theta), -sin(theta), 0],\n",
    "    [sin(theta),  cos(theta), 0],\n",
    "    [0, 0, 1]\n",
    "])\n",
    "\n",
    "\n",
    "trans_inv = np.array([\n",
    "    [1, 0, -5],\n",
    "    [0, 1, -5],\n",
    "    [0, 0, 1]\n",
    "])\n",
    "\n",
    "\n",
    "T_inv = trans_inv @ rot_inv @ scale_inv\n",
    "\n",
    "\n",
    "coords_hom = np.hstack([coords_b[:, [1, 0]], np.ones((coords_b.shape[0], 1))])\n",
    "\n",
    "\n",
    "transformed_coords = coords_hom @ T_inv.T\n",
    "x_src, y_src = transformed_coords[:, 0], transformed_coords[:, 1]\n",
    "\n",
    "\n",
    "h, w = satellite.shape\n",
    "valid = (x_src >= 0) & (x_src < w) & (y_src >= 0) & (y_src < h)\n",
    "x_src = x_src[valid]\n",
    "y_src = y_src[valid]\n",
    "\n",
    "\n",
    "sampled_values = map_coordinates(satellite, [y_src, x_src], order=1, mode='reflect')\n",
    "\n",
    "\n",
    "average_value = np.mean(sampled_values)\n",
    "print(\"Average interpolated value from Satellite_A.png:\", average_value)\n"
   ],
   "id": "1323f09a4e68d343",
   "outputs": [
    {
     "name": "stdout",
     "output_type": "stream",
     "text": [
      "Average interpolated value from Satellite_A.png: 185.84183264936564\n"
     ]
    }
   ],
   "execution_count": 5
  },
  {
   "metadata": {},
   "cell_type": "markdown",
   "source": "Q5",
   "id": "b5d3de48cbd33452"
  },
  {
   "metadata": {
    "ExecuteTime": {
     "end_time": "2025-05-20T08:10:16.203777Z",
     "start_time": "2025-05-20T08:10:16.086989Z"
    }
   },
   "cell_type": "code",
   "source": [
    "import numpy as np\n",
    "import imageio.v2 as imageio\n",
    "from scipy.ndimage import map_coordinates\n",
    "from math import radians, cos, sin\n",
    "\n",
    "\n",
    "satellite = imageio.imread(\"exam_02502_f2025_data/satellite/Satellite_A.png\").astype(float)\n",
    "roi_a = imageio.imread(\"exam_02502_f2025_data/satellite/ROI_A.png\")\n",
    "roi_b = imageio.imread(\"exam_02502_f2025_data/satellite/ROI_B.png\")\n",
    "\n",
    "\n",
    "theta = radians(-10)\n",
    "\n",
    "AT = np.array([\n",
    "    [1, 0, 5],\n",
    "    [0, 1, 5],\n",
    "    [0, 0, 1]\n",
    "])\n",
    "\n",
    "AR = np.array([\n",
    "    [cos(theta), -sin(theta), 0],\n",
    "    [sin(theta),  cos(theta), 0],\n",
    "    [0, 0, 1]\n",
    "])\n",
    "\n",
    "AS = np.array([\n",
    "    [0.5, 0, 0],\n",
    "    [0, 0.5, 0],\n",
    "    [0, 0, 1]\n",
    "])\n",
    "\n",
    "T = AS @ AR @ AT\n",
    "\n",
    "\n",
    "coords_a = np.column_stack(np.nonzero(roi_a))  # (y, x)\n",
    "coords_a_hom = np.hstack([coords_a[:, [1, 0]], np.ones((coords_a.shape[0], 1))])  # (x, y, 1)\n",
    "transformed_coords = (T @ coords_a_hom.T).T[:, :2]  # (N, 2)\n",
    "\n",
    "\n",
    "T_inv = np.linalg.inv(T)\n",
    "coords_b = np.column_stack(np.nonzero(roi_b))\n",
    "coords_b_hom = np.hstack([coords_b[:, [1, 0]], np.ones((coords_b.shape[0], 1))])\n",
    "mapped_coords = (T_inv @ coords_b_hom.T).T[:, :2]\n",
    "\n",
    "\n",
    "x_src = mapped_coords[:, 0]\n",
    "y_src = mapped_coords[:, 1]\n",
    "sampled_values = map_coordinates(satellite, [y_src, x_src], order=1, mode='reflect')\n",
    "\n",
    "\n",
    "print(\"Interpolated pixel values from Satellite_A at ROI_B positions:\", sampled_values)\n",
    "\n",
    "\n",
    "rounded_transformed = np.round(transformed_coords).astype(int)\n",
    "print(\"Rounded transformed ROI_A coordinates:\", rounded_transformed)\n"
   ],
   "id": "4921f989b09fe838",
   "outputs": [
    {
     "name": "stdout",
     "output_type": "stream",
     "text": [
      "Interpolated pixel values from Satellite_A at ROI_B positions: [155.54522415 182.24818283 180.31325382 155.59611723 221.89860817\n",
      " 238.48482429 219.44960969 209.8981957  238.01828623 192.06069525]\n",
      "Rounded transformed ROI_A coordinates: [[ 87  33]\n",
      " [208  30]\n",
      " [137  94]]\n"
     ]
    }
   ],
   "execution_count": 33
  },
  {
   "metadata": {},
   "cell_type": "markdown",
   "source": "Q4",
   "id": "60d3dd5d480f55df"
  },
  {
   "metadata": {
    "ExecuteTime": {
     "end_time": "2025-05-20T07:14:13.456266Z",
     "start_time": "2025-05-20T07:14:13.442551Z"
    }
   },
   "cell_type": "code",
   "source": [
    "import numpy as np\n",
    "from math import radians, cos, sin\n",
    "\n",
    "\n",
    "AT = np.array([\n",
    "    [1, 0, 5],\n",
    "    [0, 1, 5],\n",
    "    [0, 0, 1]\n",
    "])\n",
    "\n",
    "\n",
    "theta = radians(-10)\n",
    "AR = np.array([\n",
    "    [cos(theta), -sin(theta), 0],\n",
    "    [sin(theta),  cos(theta), 0],\n",
    "    [0, 0, 1]\n",
    "])\n",
    "\n",
    "\n",
    "AS = np.array([\n",
    "    [0.5, 0, 0],\n",
    "    [0, 0.5, 0],\n",
    "    [0, 0, 1]\n",
    "])\n",
    "\n",
    "\n",
    "T = AS @ AR @ AT\n",
    "\n",
    "\n",
    "element_00 = T[0, 0]\n",
    "\n",
    "print(\"Final transformation matrix:\\n\", T)\n",
    "print(\"Value at position (0,0):\", element_00)\n"
   ],
   "id": "c92be30c8d13bcb6",
   "outputs": [
    {
     "name": "stdout",
     "output_type": "stream",
     "text": [
      "Final transformation matrix:\n",
      " [[ 0.49240388  0.08682409  2.89613983]\n",
      " [-0.08682409  0.49240388  2.02789894]\n",
      " [ 0.          0.          1.        ]]\n",
      "Value at position (0,0): 0.492403876506104\n"
     ]
    }
   ],
   "execution_count": 6
  },
  {
   "metadata": {},
   "cell_type": "markdown",
   "source": "Q8",
   "id": "cb850d98dc171ac4"
  },
  {
   "metadata": {
    "ExecuteTime": {
     "end_time": "2025-05-20T07:21:48.976955Z",
     "start_time": "2025-05-20T07:21:41.601666Z"
    }
   },
   "cell_type": "code",
   "source": [
    "import numpy as np\n",
    "import matplotlib.pyplot as plt\n",
    "\n",
    "\n",
    "def f(x1, x2):\n",
    "    return 12*x1**2 + x1*x2 + 5*x2**2\n",
    "\n",
    "\n",
    "def grad_f(x1, x2):\n",
    "    df_dx1 = 24*x1 + x2\n",
    "    df_dx2 = x1 + 10*x2\n",
    "    return np.array([df_dx1, df_dx2])\n",
    "\n",
    "\n",
    "alpha = 0.6\n",
    "iterations = 20\n",
    "x = np.array([-15.0, 20.0])\n",
    "path = [x.copy()]\n",
    "\n",
    "\n",
    "for _ in range(iterations):\n",
    "    gradient = grad_f(x[0], x[1])\n",
    "    x = x - alpha * gradient\n",
    "    path.append(x.copy())\n",
    "\n",
    "path = np.array(path)\n",
    "\n",
    "\n",
    "x1_vals = np.linspace(-20, 20, 400)\n",
    "x2_vals = np.linspace(-20, 20, 400)\n",
    "X1, X2 = np.meshgrid(x1_vals, x2_vals)\n",
    "Z = f(X1, X2)\n",
    "\n",
    "plt.figure(figsize=(6,6))\n",
    "plt.contour(X1, X2, Z, levels=30, cmap='gray')\n",
    "plt.plot(path[:,0], path[:,1], 'ko-', markersize=4)\n",
    "plt.xlabel(\"X1\")\n",
    "plt.ylabel(\"X2\")\n",
    "plt.title(\"Gradient Descent Path (alpha = 0.6)\")\n",
    "plt.grid(True)\n",
    "plt.axis('equal')\n",
    "plt.show()\n"
   ],
   "id": "21163934809af1c",
   "outputs": [
    {
     "data": {
      "text/plain": [
       "<Figure size 600x600 with 1 Axes>"
      ],
      "image/png": "[encoded data removed]"
     },
     "metadata": {},
     "output_type": "display_data"
    }
   ],
   "execution_count": 7
  },
  {
   "metadata": {},
   "cell_type": "markdown",
   "source": "Q9",
   "id": "92f91ff6166c1e04"
  },
  {
   "metadata": {
    "ExecuteTime": {
     "end_time": "2025-05-20T07:23:20.116965Z",
     "start_time": "2025-05-20T07:23:20.053233Z"
    }
   },
   "cell_type": "code",
   "source": [
    "\n",
    "import imageio.v2 as imageio\n",
    "import numpy as np\n",
    "\n",
    "img = imageio.imread(\"exam_02502_f2025_data/car_navigation/CarTraining.png\")\n",
    "mask1 = imageio.imread(\"exam_02502_f2025_data/car_navigation/Class1.png\") > 0\n",
    "mask2 = imageio.imread(\"exam_02502_f2025_data/car_navigation/Class2.png\") > 0\n",
    "mask_bg = imageio.imread(\"exam_02502_f2025_data/car_navigation/BG.png\") > 0\n",
    "\n",
    "\n",
    "pixels_class1 = img[mask1]\n",
    "pixels_class2 = img[mask2]\n"
   ],
   "id": "829c8036117b393c",
   "outputs": [],
   "execution_count": 8
  },
  {
   "metadata": {
    "ExecuteTime": {
     "end_time": "2025-05-20T07:23:22.837735Z",
     "start_time": "2025-05-20T07:23:22.823740Z"
    }
   },
   "cell_type": "code",
   "source": [
    "mean1 = np.mean(pixels_class1, axis=0)\n",
    "mean2 = np.mean(pixels_class2, axis=0)\n",
    "\n",
    "bg_range = np.vstack([np.minimum(mean1, mean2), np.maximum(mean1, mean2)])\n",
    "print(\"Class 1 mean:\", mean1)\n",
    "print(\"Class 2 mean:\", mean2)\n",
    "print(\"Background class range (min–max between Class 1 and Class 2):\", bg_range)\n"
   ],
   "id": "8ed9a404a647196c",
   "outputs": [
    {
     "name": "stdout",
     "output_type": "stream",
     "text": [
      "Class 1 mean: 180.63541666666666\n",
      "Class 2 mean: 55.4108040201005\n",
      "Background class range (min–max between Class 1 and Class 2): [[ 55.41080402]\n",
      " [180.63541667]]\n"
     ]
    }
   ],
   "execution_count": 9
  },
  {
   "metadata": {
    "ExecuteTime": {
     "end_time": "2025-05-20T07:25:42.936887Z",
     "start_time": "2025-05-20T07:25:35.203668Z"
    }
   },
   "cell_type": "code",
   "source": [
    "import numpy as np\n",
    "import imageio.v2 as imageio\n",
    "\n",
    "\n",
    "img = imageio.imread(\"exam_02502_f2025_data/car_navigation/CarTraining.png\")\n",
    "class1_mask = imageio.imread(\"exam_02502_f2025_data/car_navigation/Class1.png\") > 0\n",
    "class2_mask = imageio.imread(\"exam_02502_f2025_data/car_navigation/Class2.png\") > 0\n",
    "\n",
    "\n",
    "img_flat = img.reshape(-1, 3) if img.ndim == 3 else img.reshape(-1, 1)\n",
    "\n",
    "\n",
    "pixels_class1 = img[class1_mask]\n",
    "pixels_class2 = img[class2_mask]\n",
    "\n",
    "\n",
    "mean1 = np.mean(pixels_class1, axis=0)\n",
    "mean2 = np.mean(pixels_class2, axis=0)\n",
    "\n",
    "\n",
    "bg_min = np.minimum(mean1, mean2)\n",
    "bg_max = np.maximum(mean1, mean2)\n",
    "\n",
    "\n",
    "def is_background(pixel):\n",
    "    return np.all(pixel >= bg_min) and np.all(pixel <= bg_max)\n",
    "\n",
    "\n",
    "img_classified = img.copy()\n",
    "h, w = img.shape[:2]\n",
    "for y in range(h):\n",
    "    for x in range(w):\n",
    "        pixel = img[y, x]\n",
    "        if is_background(pixel):\n",
    "            img_classified[y, x] = 255  # white\n",
    "\n",
    "\n",
    "imageio.imwrite(\"CarTraining_background_classified.png\", img_classified)\n"
   ],
   "id": "a755d06724f88d3e",
   "outputs": [],
   "execution_count": 11
  },
  {
   "metadata": {},
   "cell_type": "markdown",
   "source": "Q11",
   "id": "d2dbf7d393e50b2c"
  },
  {
   "metadata": {
    "ExecuteTime": {
     "end_time": "2025-05-20T07:28:56.322522Z",
     "start_time": "2025-05-20T07:28:53.870322Z"
    }
   },
   "cell_type": "code",
   "source": [
    "import numpy as np\n",
    "import imageio.v2 as imageio\n",
    "from skimage.color import rgb2gray\n",
    "from math import acos, degrees\n",
    "\n",
    "\n",
    "A = imageio.imread('exam_02502_f2025_data/animals/ImageA.png')\n",
    "B = imageio.imread('exam_02502_f2025_data/animals/ImageB.png')\n",
    "\n",
    "\n",
    "if A.ndim == 3:\n",
    "    A = rgb2gray(A)\n",
    "if B.ndim == 3:\n",
    "    B = rgb2gray(B)\n",
    "\n",
    "\n",
    "def normalize(img):\n",
    "    norm = (img - np.mean(img)) / np.std(img)\n",
    "    return norm + 50\n",
    "\n",
    "A_norm = normalize(A)\n",
    "B_norm = normalize(B)\n",
    "\n",
    "\n",
    "A_sub = A_norm[::2, ::2].flatten()\n",
    "B_sub = B_norm[::2, ::2].flatten()\n",
    "\n",
    "\n",
    "dot_product = np.dot(A_sub, B_sub)\n",
    "norms = np.linalg.norm(A_sub) * np.linalg.norm(B_sub)\n",
    "ncc = dot_product / norms\n",
    "\n",
    "\n",
    "angle_deg = degrees(acos(ncc))\n",
    "print(\"Angle between the images (degrees):\", angle_deg)\n"
   ],
   "id": "80c93b3e98fa8af2",
   "outputs": [
    {
     "name": "stdout",
     "output_type": "stream",
     "text": [
      "Angle between the images (degrees): 1.1200622817233532\n"
     ]
    }
   ],
   "execution_count": 12
  },
  {
   "metadata": {},
   "cell_type": "markdown",
   "source": "Q13",
   "id": "de81f90a903a4cdc"
  },
  {
   "metadata": {
    "ExecuteTime": {
     "end_time": "2025-05-20T07:35:03.110115Z",
     "start_time": "2025-05-20T07:35:01.001775Z"
    }
   },
   "cell_type": "code",
   "source": [
    "import numpy as np\n",
    "import imageio.v2 as imageio\n",
    "import matplotlib.pyplot as plt\n",
    "from skimage.color import rgb2gray\n",
    "\n",
    "\n",
    "img = imageio.imread(\"exam_02502_f2025_data/animals/ImageA.png\")\n",
    "\n",
    "\n",
    "if img.ndim == 3:\n",
    "    img = rgb2gray(img)\n",
    "\n",
    "\n",
    "img_normalized = (img - np.mean(img)) / np.std(img) + 50\n",
    "\n",
    "\n",
    "sampled_pixels = img_normalized[::2, ::2].flatten()\n",
    "\n",
    "\n",
    "plt.figure(figsize=(8, 4))\n",
    "plt.hist(sampled_pixels, bins=50, color='gray', edgecolor='black')\n",
    "plt.title(\"Histogram of ImageA after normalization and sampling\")\n",
    "plt.xlabel(\"Pixel Intensity\")\n",
    "plt.ylabel(\"Frequency\")\n",
    "plt.grid(True)\n",
    "plt.tight_layout()\n",
    "plt.show()\n"
   ],
   "id": "50d64abdca397b2",
   "outputs": [
    {
     "data": {
      "text/plain": [
       "<Figure size 800x400 with 1 Axes>"
      ],
      "image/png": "[encoded data removed]"
     },
     "metadata": {},
     "output_type": "display_data"
    }
   ],
   "execution_count": 13
  },
  {
   "metadata": {},
   "cell_type": "markdown",
   "source": "Q14",
   "id": "4aaa30288a8bd5b3"
  },
  {
   "metadata": {
    "ExecuteTime": {
     "end_time": "2025-05-20T07:36:22.533287Z",
     "start_time": "2025-05-20T07:36:18.403973Z"
    }
   },
   "cell_type": "code",
   "source": [
    "import numpy as np\n",
    "import imageio.v2 as imageio\n",
    "from skimage.color import rgb2gray\n",
    "from skimage.measure import label, regionprops\n",
    "import matplotlib.pyplot as plt\n",
    "\n",
    "\n",
    "image = imageio.imread(\"exam_02502_f2025_data/tea_bags/TeaBag.png\")\n",
    "\n",
    "\n",
    "gray = rgb2gray(image)\n",
    "\n",
    "\n",
    "binary = gray > 0.6\n",
    "\n",
    "\n",
    "labeled = label(binary)\n",
    "\n",
    "\n",
    "regions = regionprops(labeled)\n",
    "\n",
    "\n",
    "count = sum(1 for region in regions if region.perimeter > 15)\n",
    "\n",
    "print(\"Number of BLOBs with perimeter > 15:\", count)\n"
   ],
   "id": "ea1076eae442e6b6",
   "outputs": [
    {
     "name": "stdout",
     "output_type": "stream",
     "text": [
      "Number of BLOBs with perimeter > 15: 127\n"
     ]
    }
   ],
   "execution_count": 14
  },
  {
   "metadata": {},
   "cell_type": "markdown",
   "source": "Q15",
   "id": "2108ae2361f9f041"
  },
  {
   "metadata": {
    "ExecuteTime": {
     "end_time": "2025-05-20T07:38:23.300312Z",
     "start_time": "2025-05-20T07:38:23.142240Z"
    }
   },
   "cell_type": "code",
   "source": [
    "from skimage.measure import label, regionprops\n",
    "from skimage.color import rgb2gray\n",
    "import imageio.v2 as imageio\n",
    "\n",
    "\n",
    "img = imageio.imread(\"exam_02502_f2025_data/tea_bags/TeaBag.png\")\n",
    "gray = rgb2gray(img)\n",
    "binary = gray > 0.6\n",
    "labeled = label(binary)\n",
    "regions = regionprops(labeled)\n",
    "\n",
    "\n",
    "print(\"Total BLOBs found:\", len(regions))\n"
   ],
   "id": "39f6f33ba852743e",
   "outputs": [
    {
     "name": "stdout",
     "output_type": "stream",
     "text": [
      "Total BLOBs found: 1016\n"
     ]
    }
   ],
   "execution_count": 15
  },
  {
   "metadata": {},
   "cell_type": "markdown",
   "source": "Q16",
   "id": "f56eea11a3289ff0"
  },
  {
   "metadata": {
    "ExecuteTime": {
     "end_time": "2025-05-20T07:39:46.840908Z",
     "start_time": "2025-05-20T07:39:46.556849Z"
    }
   },
   "cell_type": "code",
   "source": [
    "import numpy as np\n",
    "import imageio.v2 as imageio\n",
    "import matplotlib.pyplot as plt\n",
    "from skimage.color import rgb2gray\n",
    "from skimage.measure import label, regionprops\n",
    "from skimage.morphology import remove_small_objects\n",
    "\n",
    "\n",
    "img = imageio.imread(\"exam_02502_f2025_data/tea_bags/TeaBag.png\")\n",
    "gray = rgb2gray(img)\n",
    "binary = gray > 0.6\n",
    "\n",
    "\n",
    "labeled = label(binary)\n",
    "regions = regionprops(labeled)\n",
    "\n",
    "\n",
    "mask_filtered = np.zeros_like(binary)\n",
    "\n",
    "for region in regions:\n",
    "    if 100 <= region.area <= 1000 and 10 <= region.perimeter <= 200:\n",
    "        coords = region.coords\n",
    "        mask_filtered[coords[:, 0], coords[:, 1]] = 1\n",
    "\n",
    "\n",
    "plt.figure(figsize=(8, 6))\n",
    "plt.imshow(mask_filtered, cmap='gray')\n",
    "plt.title(\"Filtered Letters (Area 100–1000, Perimeter 10–200)\")\n",
    "plt.axis('off')\n",
    "plt.show()\n"
   ],
   "id": "f13862b62ac079f5",
   "outputs": [
    {
     "data": {
      "text/plain": [
       "<Figure size 800x600 with 1 Axes>"
      ],
      "image/png": "[encoded data removed]"
     },
     "metadata": {},
     "output_type": "display_data"
    }
   ],
   "execution_count": 16
  },
  {
   "metadata": {},
   "cell_type": "markdown",
   "source": "Q17",
   "id": "d2e2e2a5c4d1bc20"
  },
  {
   "metadata": {
    "ExecuteTime": {
     "end_time": "2025-05-20T07:44:51.264375Z",
     "start_time": "2025-05-20T07:44:51.178439Z"
    }
   },
   "cell_type": "code",
   "source": [
    "import numpy as np\n",
    "import imageio.v2 as imageio\n",
    "from skimage.color import rgb2gray\n",
    "\n",
    "\n",
    "alpha = 0.80\n",
    "threshold = 0.2\n",
    "\n",
    "\n",
    "background = rgb2gray(imageio.imread(\"exam_02502_f2025_data/video/movie_000.jpg\"))\n",
    "\n",
    "\n",
    "for i in range(1, 5):\n",
    "    frame = rgb2gray(imageio.imread(f\"exam_02502_f2025_data/video/movie_{i:03}.jpg\"))\n",
    "    background = (1 - alpha) * background + alpha * frame\n",
    "\n",
    "\n",
    "new_frame = rgb2gray(imageio.imread(\"exam_02502_f2025_data/video/movie_005.jpg\"))\n",
    "\n",
    "\n",
    "abs_diff = np.abs(new_frame - background)\n",
    "\n",
    "\n",
    "change_mask = abs_diff > threshold\n",
    "\n",
    "\n",
    "num_changed_pixels = np.sum(change_mask)\n",
    "print(\"Changed pixels:\", num_changed_pixels)\n"
   ],
   "id": "41fcecf641b7ce92",
   "outputs": [
    {
     "name": "stdout",
     "output_type": "stream",
     "text": [
      "Changed pixels: 3279\n"
     ]
    }
   ],
   "execution_count": 19
  },
  {
   "metadata": {},
   "cell_type": "markdown",
   "source": "Q18",
   "id": "e784b92cd1dc4e5a"
  },
  {
   "metadata": {
    "ExecuteTime": {
     "end_time": "2025-05-20T07:45:48.084711Z",
     "start_time": "2025-05-20T07:45:48.068147Z"
    }
   },
   "cell_type": "code",
   "source": [
    "from skimage.measure import label, regionprops\n",
    "\n",
    "\n",
    "labeled_blobs = label(change_mask)\n",
    "\n",
    "\n",
    "regions = regionprops(labeled_blobs)\n",
    "num_blobs = len(regions)\n",
    "\n",
    "print(\"Number of BLOBs found:\", num_blobs)\n"
   ],
   "id": "6278fb4f0cb06f66",
   "outputs": [
    {
     "name": "stdout",
     "output_type": "stream",
     "text": [
      "Number of BLOBs found: 99\n"
     ]
    }
   ],
   "execution_count": 20
  },
  {
   "metadata": {},
   "cell_type": "markdown",
   "source": "Q19",
   "id": "629f8b3791f518c7"
  },
  {
   "metadata": {
    "ExecuteTime": {
     "end_time": "2025-05-20T07:47:16.117888Z",
     "start_time": "2025-05-20T07:47:16.071886Z"
    }
   },
   "cell_type": "code",
   "source": [
    "import numpy as np\n",
    "import imageio.v2 as imageio\n",
    "from skimage.color import rgb2gray\n",
    "\n",
    "\n",
    "alpha = 0.80\n",
    "\n",
    "\n",
    "background = rgb2gray(imageio.imread(\"exam_02502_f2025_data/video/movie_000.jpg\"))\n",
    "\n",
    "\n",
    "for i in range(1, 5):\n",
    "    frame = rgb2gray(imageio.imread(f\"exam_02502_f2025_data/video/movie_{i:03}.jpg\"))\n",
    "    background = (1 - alpha) * background + alpha * frame\n",
    "\n",
    "\n",
    "background_max_value = np.max(background)\n",
    "print(\"Maximum pixel value in estimated background image:\", background_max_value)\n"
   ],
   "id": "caf8785156103159",
   "outputs": [
    {
     "name": "stdout",
     "output_type": "stream",
     "text": [
      "Maximum pixel value in estimated background image: 0.920207616627451\n"
     ]
    }
   ],
   "execution_count": 22
  },
  {
   "metadata": {},
   "cell_type": "markdown",
   "source": "Q20",
   "id": "d7e772d4615737fc"
  },
  {
   "metadata": {
    "ExecuteTime": {
     "end_time": "2025-05-20T07:48:24.513309Z",
     "start_time": "2025-05-20T07:48:17.407485Z"
    }
   },
   "cell_type": "code",
   "source": [
    "%matplotlib qt\n",
    "\n",
    "import matplotlib.pyplot as plt\n",
    "\n",
    "\n",
    "plt.figure(figsize=(8, 6))\n",
    "plt.imshow(change_mask, cmap='gray')\n",
    "plt.title(\"Binary Change Mask (Threshold > 0.2)\")\n",
    "plt.axis('off')\n",
    "plt.show()\n"
   ],
   "id": "8c9af95d219b538",
   "outputs": [],
   "execution_count": 23
  },
  {
   "metadata": {},
   "cell_type": "markdown",
   "source": "Q21",
   "id": "4a33bb106f75b040"
  },
  {
   "metadata": {
    "ExecuteTime": {
     "end_time": "2025-05-20T07:53:26.287325Z",
     "start_time": "2025-05-20T07:52:58.750219Z"
    }
   },
   "cell_type": "code",
   "source": [
    "import os\n",
    "import numpy as np\n",
    "import matplotlib.pyplot as plt\n",
    "import pydicom\n",
    "from sklearn.decomposition import PCA\n",
    "\n",
    "\n",
    "training_filenames = [\n",
    "    \"1-100.dcm\", \"1-110.dcm\", \"1-120.dcm\", \"1-130.dcm\", \"1-140.dcm\",\n",
    "    \"1-150.dcm\", \"1-160.dcm\", \"1-170.dcm\", \"1-180.dcm\", \"1-190.dcm\", \"1-200.dcm\"\n",
    "]\n",
    "\n",
    "\n",
    "data_dir = \"exam_02502_f2025_data/chest_ct/\"\n",
    "training_paths = [os.path.join(data_dir, fname) for fname in training_filenames]\n",
    "\n",
    "\n",
    "image_vectors = []\n",
    "for path in training_paths:\n",
    "    ds = pydicom.dcmread(path)\n",
    "    img = ds.pixel_array.astype(np.float32)\n",
    "    image_vectors.append(img.flatten())\n",
    "\n",
    "X = np.vstack(image_vectors)  # Shape: (11, num_pixels)\n",
    "\n",
    "\n",
    "X_centered = X - np.mean(X, axis=0)\n",
    "\n",
    "\n",
    "pca = PCA(n_components=5)\n",
    "X_pca = pca.fit_transform(X_centered)\n",
    "\n",
    "\n",
    "plt.figure(figsize=(8, 6))\n",
    "plt.scatter(X_pca[:, 0], X_pca[:, 1], c='blue', marker='o')\n",
    "for i, fname in enumerate(training_filenames):\n",
    "    plt.text(X_pca[i, 0], X_pca[i, 1], fname.split('.')[0], fontsize=8)\n",
    "plt.title(\"Projection of CT slices on First Two Principal Components\")\n",
    "plt.xlabel(\"PC1\")\n",
    "plt.ylabel(\"PC2\")\n",
    "plt.grid(True)\n",
    "plt.tight_layout()\n",
    "plt.show()\n"
   ],
   "id": "900379f974cd7a74",
   "outputs": [],
   "execution_count": 24
  },
  {
   "metadata": {},
   "cell_type": "markdown",
   "source": "Q22",
   "id": "125294ae4a39ae82"
  },
  {
   "metadata": {
    "ExecuteTime": {
     "end_time": "2025-05-20T07:58:55.132814Z",
     "start_time": "2025-05-20T07:58:54.846312Z"
    }
   },
   "cell_type": "code",
   "source": [
    "import os\n",
    "import numpy as np\n",
    "import pydicom\n",
    "from skimage.morphology import closing, disk\n",
    "from skimage.measure import label, regionprops\n",
    "import matplotlib.pyplot as plt\n",
    "\n",
    "\n",
    "data_dir = \"exam_02502_f2025_data/chest_ct\"\n",
    "training_files = [f\"1-{i}.dcm\" for i in range(100, 201, 10)]\n",
    "training_imgs = []\n",
    "\n",
    "for fname in training_files:\n",
    "    path = os.path.join(data_dir, fname)\n",
    "    ds = pydicom.dcmread(path)\n",
    "    img = ds.pixel_array.astype(np.float32)\n",
    "    training_imgs.append(img)\n",
    "\n",
    "avg_img = np.mean(training_imgs, axis=0)\n",
    "\n",
    "\n",
    "binary_avg = (avg_img > 100) & (avg_img < 500)\n",
    "\n",
    "\n",
    "closed_mask = closing(binary_avg, disk(5))\n",
    "\n",
    "\n",
    "labeled = label(closed_mask)\n",
    "filtered_mask = np.zeros_like(closed_mask, dtype=bool)\n",
    "\n",
    "for region in regionprops(labeled):\n",
    "    if 2000 <= region.area <= 5000 and 400 <= region.perimeter <= 600:\n",
    "        for y, x in region.coords:\n",
    "            filtered_mask[y, x] = True\n",
    "\n",
    "\n",
    "test_ds = pydicom.dcmread(os.path.join(data_dir, \"1-115.dcm\"))\n",
    "test_img = test_ds.pixel_array.astype(np.float32)\n",
    "test_mask = (test_img > 100) & (test_img < 500)\n",
    "\n",
    "\n",
    "intersection = np.logical_and(filtered_mask, test_mask).sum()\n",
    "dice_score = 2 * intersection / (filtered_mask.sum() + test_mask.sum())\n",
    "\n",
    "print(\"DICE score:\", dice_score)\n",
    "\n",
    "\n"
   ],
   "id": "e4d94b3bfcf0fbca",
   "outputs": [
    {
     "name": "stdout",
     "output_type": "stream",
     "text": [
      "DICE score: 0.16677423518781465\n"
     ]
    }
   ],
   "execution_count": 26
  },
  {
   "metadata": {},
   "cell_type": "markdown",
   "source": "Q23",
   "id": "52d4773efd07c6eb"
  },
  {
   "metadata": {
    "ExecuteTime": {
     "end_time": "2025-05-20T08:00:15.684019Z",
     "start_time": "2025-05-20T08:00:15.057702Z"
    }
   },
   "cell_type": "code",
   "source": [
    "import os\n",
    "import numpy as np\n",
    "import pydicom\n",
    "from sklearn.decomposition import PCA\n",
    "from sklearn.metrics import pairwise_distances\n",
    "\n",
    "\n",
    "data_dir = \"exam_02502_f2025_data/chest_ct\"\n",
    "training_files = [f\"1-{i}.dcm\" for i in range(100, 201, 10)]\n",
    "test_file = \"1-105.dcm\"\n",
    "\n",
    "\n",
    "train_vectors = []\n",
    "for fname in training_files:\n",
    "    img = pydicom.dcmread(os.path.join(data_dir, fname)).pixel_array.astype(np.float32)\n",
    "    train_vectors.append(img.flatten())\n",
    "\n",
    "X_train = np.vstack(train_vectors)\n",
    "mean_train = np.mean(X_train, axis=0)\n",
    "\n",
    "\n",
    "X_train_centered = X_train - mean_train\n",
    "\n",
    "\n",
    "pca = PCA(n_components=5)\n",
    "X_train_pca = pca.fit_transform(X_train_centered)\n",
    "\n",
    "\n",
    "test_img = pydicom.dcmread(os.path.join(data_dir, test_file)).pixel_array.astype(np.float32).flatten()\n",
    "test_img_centered = test_img - mean_train\n",
    "test_pca = pca.transform([test_img_centered])\n",
    "\n",
    "\n",
    "distances = pairwise_distances(test_pca, X_train_pca)\n",
    "closest_idx = np.argmin(distances)\n",
    "closest_image = training_files[closest_idx]\n",
    "\n",
    "print(\"Closest training image to 1-105.dcm in PCA space:\", closest_image)\n"
   ],
   "id": "a83ac35098a4fecb",
   "outputs": [
    {
     "name": "stdout",
     "output_type": "stream",
     "text": [
      "Closest training image to 1-105.dcm in PCA space: 1-160.dcm\n"
     ]
    }
   ],
   "execution_count": 27
  },
  {
   "metadata": {},
   "cell_type": "markdown",
   "source": "Q24",
   "id": "706c21c185bff2d8"
  },
  {
   "metadata": {
    "ExecuteTime": {
     "end_time": "2025-05-20T08:01:46.469251Z",
     "start_time": "2025-05-20T08:01:46.277889Z"
    }
   },
   "cell_type": "code",
   "source": [
    "from skimage.measure import label, regionprops\n",
    "from skimage.morphology import closing, disk\n",
    "import pydicom\n",
    "import numpy as np\n",
    "import os\n",
    "\n",
    "\n",
    "data_dir = \"exam_02502_f2025_data/chest_ct\"\n",
    "training_files = [f\"1-{i}.dcm\" for i in range(100, 201, 10)]\n",
    "training_imgs = []\n",
    "\n",
    "for fname in training_files:\n",
    "    path = os.path.join(data_dir, fname)\n",
    "    img = pydicom.dcmread(path).pixel_array.astype(np.float32)\n",
    "    training_imgs.append(img)\n",
    "\n",
    "avg_img = np.mean(training_imgs, axis=0)\n",
    "\n",
    "\n",
    "binary = (avg_img > 100) & (avg_img < 500)\n",
    "\n",
    "\n",
    "closed = closing(binary, disk(5))\n",
    "\n",
    "\n",
    "labeled = label(closed)\n",
    "regions = regionprops(labeled)\n",
    "print(\"Number of BLOBs before filtering:\", len(regions))\n"
   ],
   "id": "8e3edf8e03eb9fd5",
   "outputs": [
    {
     "name": "stdout",
     "output_type": "stream",
     "text": [
      "Number of BLOBs before filtering: 19\n"
     ]
    }
   ],
   "execution_count": 28
  },
  {
   "metadata": {},
   "cell_type": "markdown",
   "source": "Q25",
   "id": "caedff5891e31d89"
  },
  {
   "metadata": {
    "ExecuteTime": {
     "end_time": "2025-05-20T08:02:56.218527Z",
     "start_time": "2025-05-20T08:02:56.047846Z"
    }
   },
   "cell_type": "code",
   "source": [
    "from skimage.measure import label, regionprops\n",
    "from skimage.morphology import closing, disk\n",
    "import pydicom\n",
    "import numpy as np\n",
    "import os\n",
    "\n",
    "\n",
    "data_dir = \"exam_02502_f2025_data/chest_ct\"\n",
    "training_files = [f\"1-{i}.dcm\" for i in range(100, 201, 10)]\n",
    "images = [pydicom.dcmread(os.path.join(data_dir, f)).pixel_array.astype(np.float32) for f in training_files]\n",
    "avg_img = np.mean(images, axis=0)\n",
    "\n",
    "\n",
    "binary = (avg_img > 100) & (avg_img < 500)\n",
    "closed = closing(binary, disk(5))\n",
    "\n",
    "\n",
    "labeled = label(closed)\n",
    "regions = regionprops(labeled)\n",
    "\n",
    "\n",
    "print(\"Perimeter(s) of filtered BLOB(s):\")\n",
    "for region in regions:\n",
    "    if 2000 <= region.area <= 5000 and 400 <= region.perimeter <= 600:\n",
    "        print(region.perimeter)\n"
   ],
   "id": "d27d7e55153430ab",
   "outputs": [
    {
     "name": "stdout",
     "output_type": "stream",
     "text": [
      "Perimeter(s) of filtered BLOB(s):\n",
      "412.5756851698602\n"
     ]
    }
   ],
   "execution_count": 30
  },
  {
   "metadata": {},
   "cell_type": "markdown",
   "source": "* AI was used in parts of  this code and also knowledge from previous exercises throughout the semester.",
   "id": "5b3fffe80750c0a8"
  },
  {
   "metadata": {},
   "cell_type": "code",
   "outputs": [],
   "execution_count": null,
   "source": "",
   "id": "b5d3311aff9a0584"
  }
 ],
 "metadata": {
  "kernelspec": {
   "display_name": "Python 3",
   "language": "python",
   "name": "python3"
  },
  "language_info": {
   "codemirror_mode": {
    "name": "ipython",
    "version": 2
   },
   "file_extension": ".py",
   "mimetype": "text/x-python",
   "name": "python",
   "nbconvert_exporter": "python",
   "pygments_lexer": "ipython2",
   "version": "2.7.6"
  }
 },
 "nbformat": 4,
 "nbformat_minor": 5
}
