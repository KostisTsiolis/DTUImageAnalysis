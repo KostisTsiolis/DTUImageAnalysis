{
 "cells": [
  {
   "cell_type": "code",
   "id": "initial_id",
   "metadata": {
    "collapsed": true,
    "ExecuteTime": {
     "end_time": "2025-04-06T17:21:26.675246Z",
     "start_time": "2025-04-06T17:21:20.186273Z"
    }
   },
   "source": [
    " import os\n",
    "from skimage import color, io, measure, img_as_ubyte\n",
    "from skimage.measure import profile_line\n",
    "from skimage.transform import rescale, resize\n",
    "\n",
    "import matplotlib.pyplot as plt\n",
    "import numpy as np\n",
    "%matplotlib qt\n",
    "\n",
    "\n",
    "import pydicom as dicom"
   ],
   "outputs": [],
   "execution_count": 5
  },
  {
   "metadata": {},
   "cell_type": "markdown",
   "source": "Exercise 1",
   "id": "f6a64cd5888e71af"
  },
  {
   "metadata": {
    "ExecuteTime": {
     "end_time": "2025-04-06T17:21:38.630785Z",
     "start_time": "2025-04-06T17:21:38.620111Z"
    }
   },
   "cell_type": "code",
   "source": [
    "import math\n",
    "\n",
    "a = 10\n",
    "b = 3\n",
    "\n",
    "# Compute θ in radians\n",
    "theta_rad = math.atan2(b, a)\n",
    "\n",
    "# Convert to degrees\n",
    "theta_deg = math.degrees(theta_rad)\n",
    "\n",
    "\n",
    "print(f\"Theta (in degrees): {theta_deg}\")"
   ],
   "id": "4fb08aa41e7ed509",
   "outputs": [
    {
     "name": "stdout",
     "output_type": "stream",
     "text": [
      "Theta (in degrees): 16.69924423399362\n"
     ]
    }
   ],
   "execution_count": 6
  },
  {
   "metadata": {},
   "cell_type": "markdown",
   "source": "Exercise 2",
   "id": "75b8eeedfbf7918c"
  },
  {
   "metadata": {
    "ExecuteTime": {
     "end_time": "2025-04-06T17:22:34.697250Z",
     "start_time": "2025-04-06T17:22:34.687657Z"
    }
   },
   "cell_type": "code",
   "source": [
    "def camera_b_distance(f, g):\n",
    "    \"\"\"\n",
    "    camera_b_distance returns the distance (b) where the CCD should be placed\n",
    "    when the object distance (g) and the focal length (f) are given\n",
    "\n",
    "    :param f: Focal length (in mm)\n",
    "    :param g: Object distance (in meters)\n",
    "    :return: b, the distance where the CCD should be placed (in mm)\n",
    "    \"\"\"\n",
    "    g_mm = g * 1000  # Convert g to mm to match units\n",
    "    if g_mm == f:\n",
    "        return float('inf')  # Rays never converge (focus at infinity)\n",
    "    b = 1 / ((1 / f) - (1 / g_mm))\n",
    "    return b\n"
   ],
   "id": "28a8c80adff83f7b",
   "outputs": [],
   "execution_count": 7
  },
  {
   "metadata": {},
   "cell_type": "markdown",
   "source": "Exercise 3a",
   "id": "eea283a30fad8433"
  },
  {
   "metadata": {
    "ExecuteTime": {
     "end_time": "2025-04-06T17:25:45.872721Z",
     "start_time": "2025-04-06T17:25:45.862771Z"
    }
   },
   "cell_type": "code",
   "source": [
    "focal_distance = 15e-3  # 15 mm = 0.015 meters\n",
    "object_distances = [0.1, 1, 5, 15]  # in meters\n",
    "\n",
    "for d in object_distances:\n",
    "    val = camera_b_distance(focal_distance, d)\n",
    "    print(f\"Focal distance (m): {focal_distance:.4f} \\t Object distance (m): {d:.2f} \\t CCD place (m): {val}\")\n"
   ],
   "id": "385af90d80257d8",
   "outputs": [
    {
     "name": "stdout",
     "output_type": "stream",
     "text": [
      "Focal distance (m): 0.0150 \t Object distance (m): 0.10 \t CCD place (m): 0.015002250337550633\n",
      "Focal distance (m): 0.0150 \t Object distance (m): 1.00 \t CCD place (m): 0.015000225003375051\n",
      "Focal distance (m): 0.0150 \t Object distance (m): 5.00 \t CCD place (m): 0.015000045000135001\n",
      "Focal distance (m): 0.0150 \t Object distance (m): 15.00 \t CCD place (m): 0.015000015000014999\n"
     ]
    }
   ],
   "execution_count": 9
  },
  {
   "metadata": {},
   "cell_type": "markdown",
   "source": "Exercise 3b",
   "id": "78df6bd7d5afaed1"
  },
  {
   "metadata": {
    "ExecuteTime": {
     "end_time": "2025-04-06T17:27:34.077303Z",
     "start_time": "2025-04-06T17:27:34.066935Z"
    }
   },
   "cell_type": "code",
   "source": [
    "import math\n",
    "\n",
    "f = 0.005    # 5 mm in meters\n",
    "g = 5.0      # Thomas is 5 meters away\n",
    "\n",
    "b = 1 / ((1 / f) - (1 / g))\n",
    "print(f\"The focused image is formed at b = {b} meters from the lens.\")\n"
   ],
   "id": "cfe555471dee9a9c",
   "outputs": [
    {
     "name": "stdout",
     "output_type": "stream",
     "text": [
      "The focused image is formed at b = 0.005005005005005005 meters from the lens.\n"
     ]
    }
   ],
   "execution_count": 11
  },
  {
   "metadata": {},
   "cell_type": "markdown",
   "source": "Exercise 3c",
   "id": "f21bf429874e371d"
  },
  {
   "metadata": {
    "ExecuteTime": {
     "end_time": "2025-04-06T17:28:36.813394Z",
     "start_time": "2025-04-06T17:28:36.804842Z"
    }
   },
   "cell_type": "code",
   "source": [
    "# Parameters\n",
    "H = 1.8      # Thomas' height in meters\n",
    "g = 5.0      # Object distance in meters\n",
    "f = 0.005    # Focal length in meters\n",
    "\n",
    "# Compute image distance (in meters)\n",
    "b = 1 / ((1 / f) - (1 / g))\n",
    "\n",
    "# Compute magnification\n",
    "M = b / g\n",
    "\n",
    "# Image height in meters, convert to mm\n",
    "h_mm = M * H * 1000\n",
    "\n",
    "print(f\"Thomas appears as {h_mm} mm tall on the CCD.\")\n"
   ],
   "id": "13c04ba7cc46f82e",
   "outputs": [
    {
     "name": "stdout",
     "output_type": "stream",
     "text": [
      "Thomas appears as 1.8018018018018018 mm tall on the CCD.\n"
     ]
    }
   ],
   "execution_count": 13
  },
  {
   "metadata": {},
   "cell_type": "markdown",
   "source": "Exercise 3d",
   "id": "44c985e25f60374f"
  },
  {
   "metadata": {
    "ExecuteTime": {
     "end_time": "2025-04-06T17:29:32.470219Z",
     "start_time": "2025-04-06T17:29:32.461376Z"
    }
   },
   "cell_type": "code",
   "source": [
    "pixel_width = 6.4 / 640      # in mm\n",
    "pixel_height = 4.8 / 480     # in mm\n",
    "\n",
    "print(f\"Pixel width: {pixel_width} mm\")\n",
    "print(f\"Pixel height: {pixel_height} mm\")\n"
   ],
   "id": "2a2ac4879210d6df",
   "outputs": [
    {
     "name": "stdout",
     "output_type": "stream",
     "text": [
      "Pixel width: 0.01 mm\n",
      "Pixel height: 0.01 mm\n"
     ]
    }
   ],
   "execution_count": 15
  },
  {
   "metadata": {},
   "cell_type": "markdown",
   "source": "Exercise 3e",
   "id": "2e433aa124afd853"
  },
  {
   "metadata": {
    "ExecuteTime": {
     "end_time": "2025-04-06T17:30:54.970250Z",
     "start_time": "2025-04-06T17:30:54.959987Z"
    }
   },
   "cell_type": "code",
   "source": [
    "image_height_mm = 1.80     # From earlier calculation\n",
    "pixel_height_mm = 0.01     # Based on 480 pixels in 4.8 mm\n",
    "\n",
    "image_height_px = image_height_mm / pixel_height_mm\n",
    "\n",
    "print(f\"Thomas will appear as {image_height_px} pixels tall on the CCD.\")\n"
   ],
   "id": "bd94033c130f6986",
   "outputs": [
    {
     "name": "stdout",
     "output_type": "stream",
     "text": [
      "Thomas will appear as 180.0 pixels tall on the CCD.\n"
     ]
    }
   ],
   "execution_count": 17
  },
  {
   "metadata": {},
   "cell_type": "markdown",
   "source": "Exercise 3f",
   "id": "e267f66896be8ec"
  },
  {
   "metadata": {
    "ExecuteTime": {
     "end_time": "2025-04-06T17:31:48.762872Z",
     "start_time": "2025-04-06T17:31:48.747207Z"
    }
   },
   "cell_type": "code",
   "source": [
    "import math\n",
    "\n",
    "sensor_width = 6.4    # in mm\n",
    "focal_length = 5.0    # in mm\n",
    "\n",
    "# Compute HFOV in radians\n",
    "hfov_rad = 2 * math.atan((sensor_width / 2) / focal_length)\n",
    "\n",
    "# Convert to degrees\n",
    "hfov_deg = math.degrees(hfov_rad)\n",
    "\n",
    "print(f\"Horizontal Field of View: {hfov_deg} degrees\")\n"
   ],
   "id": "b0a0b43cd3993ccc",
   "outputs": [
    {
     "name": "stdout",
     "output_type": "stream",
     "text": [
      "Horizontal Field of View: 65.23848614238565 degrees\n"
     ]
    }
   ],
   "execution_count": 18
  },
  {
   "metadata": {},
   "cell_type": "markdown",
   "source": "Exercise 3g",
   "id": "b134c616efb677f6"
  },
  {
   "metadata": {
    "ExecuteTime": {
     "end_time": "2025-04-06T17:32:36.098224Z",
     "start_time": "2025-04-06T17:32:36.086343Z"
    }
   },
   "cell_type": "code",
   "source": [
    "import math\n",
    "\n",
    "sensor_height = 4.8    # mm\n",
    "focal_length = 5.0     # mm\n",
    "\n",
    "# Compute VFOV in radians\n",
    "vfov_rad = 2 * math.atan((sensor_height / 2) / focal_length)\n",
    "\n",
    "# Convert to degrees\n",
    "vfov_deg = math.degrees(vfov_rad)\n",
    "\n",
    "print(f\"Vertical Field of View: {vfov_deg} degrees\")\n"
   ],
   "id": "a1b19fa4067efffe",
   "outputs": [
    {
     "name": "stdout",
     "output_type": "stream",
     "text": [
      "Vertical Field of View: 51.28201164861056 degrees\n"
     ]
    }
   ],
   "execution_count": 19
  }
 ],
 "metadata": {
  "kernelspec": {
   "display_name": "Python 3",
   "language": "python",
   "name": "python3"
  },
  "language_info": {
   "codemirror_mode": {
    "name": "ipython",
    "version": 2
   },
   "file_extension": ".py",
   "mimetype": "text/x-python",
   "name": "python",
   "nbconvert_exporter": "python",
   "pygments_lexer": "ipython2",
   "version": "2.7.6"
  }
 },
 "nbformat": 4,
 "nbformat_minor": 5
}
