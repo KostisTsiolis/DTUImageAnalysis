{
 "cells": [
  {
   "cell_type": "code",
   "id": "initial_id",
   "metadata": {
    "collapsed": true,
    "ExecuteTime": {
     "end_time": "2025-04-06T17:02:38.957513Z",
     "start_time": "2025-04-06T17:02:38.948833Z"
    }
   },
   "source": [
    " import os\n",
    "from skimage import color, io, measure, img_as_ubyte\n",
    "from skimage.measure import profile_line\n",
    "from skimage.transform import rescale, resize\n",
    "\n",
    "import matplotlib.pyplot as plt\n",
    "import numpy as np\n",
    "%matplotlib qt\n",
    "\n",
    "\n",
    "import pydicom as dicom"
   ],
   "outputs": [],
   "execution_count": 17
  },
  {
   "metadata": {},
   "cell_type": "markdown",
   "source": "Exercise 1",
   "id": "247e9482572712a4"
  },
  {
   "metadata": {
    "ExecuteTime": {
     "end_time": "2025-04-06T16:43:26.585606Z",
     "start_time": "2025-04-06T16:43:26.539196Z"
    }
   },
   "cell_type": "code",
   "source": [
    "import numpy as np\n",
    "in_dir = 'data/'\n",
    "txt_name = 'irisdata.txt'\n",
    "iris_data = np.loadtxt(in_dir + txt_name, comments=\"%\")\n",
    "# x is a matrix with 50 rows and 4 columns\n",
    "x = iris_data[0:50, 0:4]"
   ],
   "id": "8b345772871a5eb9",
   "outputs": [],
   "execution_count": 2
  },
  {
   "metadata": {},
   "cell_type": "markdown",
   "source": "Exercise 1b",
   "id": "71410f207a1c4150"
  },
  {
   "metadata": {
    "ExecuteTime": {
     "end_time": "2025-04-06T16:43:58.638947Z",
     "start_time": "2025-04-06T16:43:58.627896Z"
    }
   },
   "cell_type": "code",
   "source": [
    "n_feat = x.shape[1]\n",
    "n_obs = x.shape[0]\n",
    "print(f\"Number of features: {n_feat} and number of observations: {n_obs}\")"
   ],
   "id": "7b419e2f1c028510",
   "outputs": [
    {
     "name": "stdout",
     "output_type": "stream",
     "text": [
      "Number of features: 4 and number of observations: 50\n"
     ]
    }
   ],
   "execution_count": 3
  },
  {
   "metadata": {},
   "cell_type": "markdown",
   "source": "Exercise 2",
   "id": "fac2a1927adfaff0"
  },
  {
   "metadata": {
    "ExecuteTime": {
     "end_time": "2025-04-06T16:46:45.220890Z",
     "start_time": "2025-04-06T16:46:45.212513Z"
    }
   },
   "cell_type": "code",
   "source": [
    "sep_l = x[:, 0]\n",
    "sep_w = x[:, 1]\n",
    "pet_l = x[:, 2]\n",
    "pet_w = x[:, 3]"
   ],
   "id": "13931cae086bb43c",
   "outputs": [],
   "execution_count": 5
  },
  {
   "metadata": {},
   "cell_type": "markdown",
   "source": "Exercise 2b",
   "id": "fff4546bf2c6610d"
  },
  {
   "metadata": {
    "ExecuteTime": {
     "end_time": "2025-04-06T16:46:47.336888Z",
     "start_time": "2025-04-06T16:46:47.324770Z"
    }
   },
   "cell_type": "code",
   "source": [
    "# Use ddof = 1 to make an unbiased estimate\n",
    "var_sep_l = sep_l.var(ddof=1)\n",
    "var_sep_w=sep_w.var(ddof=1)\n",
    "var_pet_l = pet_l.var(ddof=1)\n",
    "var_pet_w = pet_w.var(ddof=1)\n"
   ],
   "id": "87f27b48af80bcf9",
   "outputs": [],
   "execution_count": 6
  },
  {
   "metadata": {},
   "cell_type": "markdown",
   "source": "Exercise 3",
   "id": "4ab7edbe1a0cf552"
  },
  {
   "metadata": {
    "ExecuteTime": {
     "end_time": "2025-04-06T16:52:48.727213Z",
     "start_time": "2025-04-06T16:52:48.714662Z"
    }
   },
   "cell_type": "code",
   "source": [
    "cov_l = sep_l.dot(pet_l)/(n_obs - 1)\n",
    "cov_w = sep_l.dot(sep_w)/(n_obs -1)\n",
    "\n",
    "# Print results\n",
    "print(f\"Sepal length, petal length covariance: {cov_l:.2f}\")\n",
    "print(f\"Sepal length, sepal width covariance: {cov_w:.2f}\")"
   ],
   "id": "88383e0b1c9b266b",
   "outputs": [
    {
     "name": "stdout",
     "output_type": "stream",
     "text": [
      "Sepal length, petal length covariance: 7.48\n",
      "Sepal length, sepal width covariance: 17.61\n"
     ]
    }
   ],
   "execution_count": 13
  },
  {
   "metadata": {},
   "cell_type": "markdown",
   "source": "Exercise 4",
   "id": "27ea794d51607cad"
  },
  {
   "metadata": {
    "ExecuteTime": {
     "end_time": "2025-04-06T17:03:42.806325Z",
     "start_time": "2025-04-06T17:03:31.369557Z"
    }
   },
   "cell_type": "code",
   "source": [
    "import seaborn as sns\n",
    "import pandas as pd\n",
    "\n",
    "plt.figure() # Added this to make sure that the figure appear\n",
    "# Transform the data into a Pandas dataframe\n",
    "d = pd.DataFrame(x, columns=[\"Sepal length\", \"Sepal width\",\n",
    "\t\t\t\t\t\t\t \"Petal length\", \"Petal width\"])\n",
    "sns.pairplot(d)\n",
    "plt.show()"
   ],
   "id": "24ec138307e4d4d7",
   "outputs": [],
   "execution_count": 19
  },
  {
   "metadata": {},
   "cell_type": "markdown",
   "source": "Execise 5",
   "id": "77e322217c58c57e"
  },
  {
   "metadata": {
    "ExecuteTime": {
     "end_time": "2025-04-06T17:04:13.992735Z",
     "start_time": "2025-04-06T17:04:13.986421Z"
    }
   },
   "cell_type": "code",
   "source": [
    "mn = np.mean(x, axis=0)\n",
    "data = x - mn"
   ],
   "id": "8162b9750e59e33a",
   "outputs": [],
   "execution_count": 20
  },
  {
   "metadata": {},
   "cell_type": "markdown",
   "source": "Exercise 5b",
   "id": "5814da3c9f3b95d1"
  },
  {
   "metadata": {
    "ExecuteTime": {
     "end_time": "2025-04-06T17:05:55.941975Z",
     "start_time": "2025-04-06T17:05:55.930421Z"
    }
   },
   "cell_type": "code",
   "source": [
    "N = data.shape[0]  # number of samples\n",
    "C_manual = np.matmul(data.T, data) / (N - 1)\n",
    "C_numpy = np.cov(x.T)  # Use x.T because np.cov expects features as rows by default\n",
    "print(\"Manual covariance matrix:\\n\", C_manual)\n",
    "print(\"\\nNumPy covariance matrix:\\n\", C_numpy)\n",
    "\n",
    "# Check difference\n",
    "print(\"\\nDifference:\\n\", C_manual - C_numpy)\n",
    "\n",
    "# Or use np.allclose to verify numerical equality\n",
    "print(\"\\nAre they approximately equal?\", np.allclose(C_manual, C_numpy))\n"
   ],
   "id": "8f44f7ad510f3f01",
   "outputs": [
    {
     "name": "stdout",
     "output_type": "stream",
     "text": [
      "Manual covariance matrix:\n",
      " [[0.12424898 0.09921633 0.0163551  0.01033061]\n",
      " [0.09921633 0.1436898  0.01169796 0.00929796]\n",
      " [0.0163551  0.01169796 0.03015918 0.00606939]\n",
      " [0.01033061 0.00929796 0.00606939 0.01110612]]\n",
      "\n",
      "NumPy covariance matrix:\n",
      " [[0.12424898 0.09921633 0.0163551  0.01033061]\n",
      " [0.09921633 0.1436898  0.01169796 0.00929796]\n",
      " [0.0163551  0.01169796 0.03015918 0.00606939]\n",
      " [0.01033061 0.00929796 0.00606939 0.01110612]]\n",
      "\n",
      "Difference:\n",
      " [[1.38777878e-17 1.38777878e-17 0.00000000e+00 0.00000000e+00]\n",
      " [1.38777878e-17 2.77555756e-17 1.73472348e-18 1.73472348e-18]\n",
      " [0.00000000e+00 1.73472348e-18 3.46944695e-18 8.67361738e-19]\n",
      " [0.00000000e+00 1.73472348e-18 8.67361738e-19 0.00000000e+00]]\n",
      "\n",
      "Are they approximately equal? True\n"
     ]
    }
   ],
   "execution_count": 21
  },
  {
   "metadata": {},
   "cell_type": "markdown",
   "source": "Exercise 6",
   "id": "f192659d009a9f24"
  },
  {
   "metadata": {
    "ExecuteTime": {
     "end_time": "2025-04-06T17:08:42.167713Z",
     "start_time": "2025-04-06T17:08:42.157501Z"
    }
   },
   "cell_type": "code",
   "source": "values, vectors = np.linalg.eig(C_manual) # Here c_x is your covariance matrix.",
   "id": "e4561acff8f7009a",
   "outputs": [],
   "execution_count": 24
  },
  {
   "metadata": {},
   "cell_type": "markdown",
   "source": "Exercise 7",
   "id": "a3125390e8fdd735"
  },
  {
   "metadata": {
    "ExecuteTime": {
     "end_time": "2025-04-06T17:09:59.658566Z",
     "start_time": "2025-04-06T17:09:59.569716Z"
    }
   },
   "cell_type": "code",
   "source": [
    "v_norm = values / values.sum() * 100\n",
    "plt.plot(v_norm)\n",
    "plt.xlabel(\"Principal component\")\n",
    "plt.ylabel(\"Percent explained variance\")\n",
    "plt.ylim([0, 100])\n",
    "\n",
    "plt.show()"
   ],
   "id": "3c7d9297755299e3",
   "outputs": [],
   "execution_count": 27
  },
  {
   "metadata": {},
   "cell_type": "markdown",
   "source": "Exercise 8",
   "id": "610c2a01de1121a"
  },
  {
   "metadata": {
    "ExecuteTime": {
     "end_time": "2025-04-06T17:11:02.662782Z",
     "start_time": "2025-04-06T17:10:58.967311Z"
    }
   },
   "cell_type": "code",
   "source": [
    "pc_proj = vectors.T.dot(data.T)\n",
    "\n",
    "plt.figure() # Added this to make sure that the figure appear\n",
    "# Transform the data into a Pandas dataframe\n",
    "d = pd.DataFrame(pc_proj.T, columns=['PC1', 'PC2', 'PC3', 'PC4'])\n",
    "\n",
    "p = sns.pairplot(d)\n",
    "p.set(xlim=(-1,1), ylim = (-1,1))\n",
    "plt.show()"
   ],
   "id": "e7ec84b641c79f57",
   "outputs": [],
   "execution_count": 28
  },
  {
   "metadata": {},
   "cell_type": "markdown",
   "source": "Exercise 9",
   "id": "8ff56e4db78bd0cf"
  },
  {
   "metadata": {
    "ExecuteTime": {
     "end_time": "2025-04-06T17:13:14.146486Z",
     "start_time": "2025-04-06T17:13:10.359158Z"
    }
   },
   "cell_type": "code",
   "source": [
    "from sklearn import decomposition\n",
    "\n",
    "pca = decomposition.PCA()\n",
    "pca.fit(x)\n",
    "values_pca = pca.explained_variance_\n",
    "exp_var_ratio = pca.explained_variance_ratio_\n",
    "vectors_pca = pca.components_\n",
    "\n",
    "data_transform = pca.transform(x)\n",
    "\n",
    "plt.figure()\n",
    "\n",
    "d = pd.DataFrame(data_transform, columns=['PC1', 'PC2', 'PC3', 'PC4'])\n",
    "\n",
    "p = sns.pairplot(d)\n",
    "p.set(xlim=(-1,1), ylim = (-1,1))\n",
    "plt.show()"
   ],
   "id": "27a7a8f5eb468620",
   "outputs": [],
   "execution_count": 30
  }
 ],
 "metadata": {
  "kernelspec": {
   "display_name": "Python 3",
   "language": "python",
   "name": "python3"
  },
  "language_info": {
   "codemirror_mode": {
    "name": "ipython",
    "version": 2
   },
   "file_extension": ".py",
   "mimetype": "text/x-python",
   "name": "python",
   "nbconvert_exporter": "python",
   "pygments_lexer": "ipython2",
   "version": "2.7.6"
  }
 },
 "nbformat": 4,
 "nbformat_minor": 5
}
