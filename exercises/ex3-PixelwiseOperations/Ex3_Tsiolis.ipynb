{
 "cells": [
  {
   "cell_type": "code",
   "id": "initial_id",
   "metadata": {
    "collapsed": true,
    "ExecuteTime": {
     "end_time": "2025-05-13T17:14:24.617763Z",
     "start_time": "2025-05-13T17:14:24.605894Z"
    }
   },
   "source": [
    "from skimage import io,color\n",
    "import matplotlib.pyplot as plt\n",
    "import numpy as np\n",
    "\n",
    "%matplotlib qt"
   ],
   "outputs": [],
   "execution_count": 28
  },
  {
   "metadata": {},
   "cell_type": "markdown",
   "source": "Exercise 1",
   "id": "e5f4199240a497c6"
  },
  {
   "metadata": {
    "ExecuteTime": {
     "end_time": "2025-05-13T16:39:58.892738Z",
     "start_time": "2025-05-13T16:39:55.435553Z"
    }
   },
   "cell_type": "code",
   "source": [
    "in_dir = \"data/\"\n",
    "im_name = \"vertebra.png\"\n",
    "im_org = io.imread(in_dir + im_name)\n",
    "\n",
    "nbins = 256\n",
    "\n",
    "fig, ax = plt.subplots(nrows=1, ncols = 2, figsize = (12, 5))\n",
    "ax[0].imshow(im_org, cmap = 'gray', vmin = 0, vmax = 255)\n",
    "ax[0].set_title('Image')\n",
    "\n",
    "ax[1].hist(im_org.ravel(), bins=nbins)\n",
    "ax[1].set_title('Image histogram')\n",
    "ax[1].set_xlabel('Intensities')\n",
    "ax[1].set_ylabel('Frequency')\n",
    "plt.show()"
   ],
   "id": "93a00e1078eaa976",
   "outputs": [],
   "execution_count": 5
  },
  {
   "metadata": {},
   "cell_type": "markdown",
   "source": "Exercise 2",
   "id": "c1f5b1e6a1a4ff00"
  },
  {
   "metadata": {
    "ExecuteTime": {
     "end_time": "2025-05-13T16:42:21.260852Z",
     "start_time": "2025-05-13T16:42:21.249291Z"
    }
   },
   "cell_type": "code",
   "source": [
    "min_val = im_org.min()\n",
    "max_val = im_org.max()\n",
    "\n",
    "print(f\"Minimum intensity: {min_val}\")\n",
    "print(f\"Maximum intensity: {max_val}\")\n"
   ],
   "id": "54ca5cd3e4ffe98b",
   "outputs": [
    {
     "name": "stdout",
     "output_type": "stream",
     "text": [
      "Minimum intensity: 57\n",
      "Maximum intensity: 235\n"
     ]
    }
   ],
   "execution_count": 6
  },
  {
   "metadata": {
    "ExecuteTime": {
     "end_time": "2025-05-13T16:44:43.012238Z",
     "start_time": "2025-05-13T16:44:42.850686Z"
    }
   },
   "cell_type": "code",
   "source": [
    "fig, ax = plt.subplots(nrows=1, ncols=2, figsize=(12, 5))\n",
    "\n",
    "# Full 0–255 display\n",
    "ax[0].imshow(im_org, vmin=0, vmax=255, cmap='gray')\n",
    "ax[0].set_title('Visualization window: [0, 255]')\n",
    "\n",
    "# Dynamic range based on actual min/max\n",
    "ax[1].imshow(im_org, vmin=min_val, vmax=max_val, cmap='gray')\n",
    "ax[1].set_title(f'Visualization window: [{min_val}, {max_val}]')\n",
    "\n",
    "plt.show()"
   ],
   "id": "6c4c3778c773e173",
   "outputs": [],
   "execution_count": 8
  },
  {
   "metadata": {},
   "cell_type": "markdown",
   "source": "Exercise 3",
   "id": "9feeea7972a3f755"
  },
  {
   "metadata": {
    "ExecuteTime": {
     "end_time": "2025-05-13T16:49:05.637187Z",
     "start_time": "2025-05-13T16:49:05.582613Z"
    }
   },
   "cell_type": "code",
   "source": [
    "from skimage.util import img_as_float\n",
    "from skimage.util import img_as_ubyte\n",
    "\n",
    "# Read the image\n",
    "in_dir = \"data/\"\n",
    "im_name = \"vertebra.png\"\n",
    "im_org = io.imread(in_dir + im_name)\n",
    "\n",
    "# Check original image properties\n",
    "min_orig = im_org.min()\n",
    "max_orig = im_org.max()\n",
    "\n",
    "# Convert to float image\n",
    "im_float = img_as_float(im_org)\n",
    "\n",
    "# Check float image properties\n",
    "min_float = im_float.min()\n",
    "max_float = im_float.max()\n",
    "\n",
    "print(f\"Float image min: {min_float}\")\n",
    "print(f\"Float image max: {max_float}\")\n",
    "\n",
    "im_scaled = im_org / 255.0\n",
    "is_equal = np.allclose(im_scaled, im_float)\n",
    "\n",
    "print(f\"Are float values equal to original / 255? {is_equal}\")"
   ],
   "id": "a9a93b5828e177f7",
   "outputs": [
    {
     "name": "stdout",
     "output_type": "stream",
     "text": [
      "Float image min: 0.22352941176470587\n",
      "Float image max: 0.9215686274509803\n",
      "Are float values equal to original / 255? True\n"
     ]
    }
   ],
   "execution_count": 11
  },
  {
   "metadata": {},
   "cell_type": "markdown",
   "source": "Exercise 4",
   "id": "f0449065dc48508a"
  },
  {
   "metadata": {
    "ExecuteTime": {
     "end_time": "2025-05-13T16:51:51.604242Z",
     "start_time": "2025-05-13T16:51:51.562927Z"
    }
   },
   "cell_type": "code",
   "source": [
    "from skimage import img_as_ubyte\n",
    "\n",
    "# Convert float image back to uint8\n",
    "im_back_to_uint8 = img_as_ubyte(im_float)\n",
    "\n",
    "# Check min and max values\n",
    "min_back = im_back_to_uint8.min()\n",
    "max_back = im_back_to_uint8.max()\n",
    "\n",
    "print(f\"Back to uint8 image min: {min_back}\")\n",
    "print(f\"Back to uint8 image max: {max_back}\")\n",
    "\n",
    "# Check if we recover the original image\n",
    "is_recovered = np.array_equal(im_org, im_back_to_uint8)\n",
    "print(f\"Is the recovered image equal to the original? {is_recovered}\")"
   ],
   "id": "991b100e107e1751",
   "outputs": [
    {
     "name": "stdout",
     "output_type": "stream",
     "text": [
      "Back to uint8 image min: 57\n",
      "Back to uint8 image max: 235\n",
      "Is the recovered image equal to the original? True\n"
     ]
    }
   ],
   "execution_count": 12
  },
  {
   "metadata": {},
   "cell_type": "markdown",
   "source": "Exercise 5",
   "id": "f5bee85ff0e0a8f5"
  },
  {
   "metadata": {
    "ExecuteTime": {
     "end_time": "2025-05-13T16:53:31.565614Z",
     "start_time": "2025-05-13T16:53:31.555803Z"
    }
   },
   "cell_type": "code",
   "source": [
    "def histogram_stretch(img_in):\n",
    "    \"\"\"\n",
    "    Stretches the histogram of an image\n",
    "    :param img_in: Input image\n",
    "    :return: Image, where the histogram is stretched so the min values is 0 and the maximum value 255\n",
    "    \"\"\"\n",
    "    # img_as_float will divide all pixel values with 255.0\n",
    "    img_float = img_as_float(img_in)\n",
    "    min_val = img_float.min()\n",
    "    max_val = img_float.max()\n",
    "    min_desired = 0.0\n",
    "    max_desired = 1.0\n",
    "\n",
    "    # Do something here\n",
    "    img_out = ((img_float-min_val)*(max_desired-min_desired)/(max_val-min_val))+min_desired\n",
    "    # img_as_ubyte will multiply all pixel values with 255.0 before converting to unsigned byte\n",
    "    return img_as_ubyte(img_out)"
   ],
   "id": "e00857ae0053c54d",
   "outputs": [],
   "execution_count": 13
  },
  {
   "metadata": {},
   "cell_type": "markdown",
   "source": "Exercise 6",
   "id": "8c92da34871ec75f"
  },
  {
   "metadata": {
    "ExecuteTime": {
     "end_time": "2025-05-13T16:54:26.454658Z",
     "start_time": "2025-05-13T16:54:26.235376Z"
    }
   },
   "cell_type": "code",
   "source": [
    "im_stretched = histogram_stretch(im_org)\n",
    "\n",
    "fig, ax = plt.subplots(nrows=1, ncols = 2, figsize = (12, 5))\n",
    "ax[0].imshow(im_org, cmap = 'gray', vmin = 0, vmax = 255)\n",
    "ax[0].set_title('Original image')\n",
    "ax[1].imshow(im_stretched, cmap = 'gray', vmin = 0, vmax = 255)\n",
    "ax[1].set_title('Stretched image')\n",
    "plt.show()"
   ],
   "id": "5595fdd3d305667f",
   "outputs": [],
   "execution_count": 14
  },
  {
   "metadata": {},
   "cell_type": "markdown",
   "source": "Exercise 7",
   "id": "11bdcbb83b53a9a3"
  },
  {
   "metadata": {
    "ExecuteTime": {
     "end_time": "2025-05-13T16:56:10.014536Z",
     "start_time": "2025-05-13T16:56:10.005231Z"
    }
   },
   "cell_type": "code",
   "source": [
    "from skimage import img_as_float, img_as_ubyte\n",
    "import numpy as np\n",
    "\n",
    "def gamma_map(img, gamma):\n",
    "    \"\"\"\n",
    "    Apply gamma correction to the input image.\n",
    "\n",
    "    Parameters:\n",
    "    - img: Input image (uint8, grayscale or color)\n",
    "    - gamma: Gamma value (>1 darkens, <1 lightens)\n",
    "\n",
    "    Returns:\n",
    "    - Gamma-corrected image as uint8\n",
    "    \"\"\"\n",
    "    # Step 1: Convert to float [0, 1]\n",
    "    img_float = img_as_float(img)\n",
    "\n",
    "    # Step 2: Apply gamma mapping\n",
    "    img_gamma = np.power(img_float, gamma)\n",
    "\n",
    "    # Step 3: Convert back to uint8\n",
    "    return img_as_ubyte(img_gamma)"
   ],
   "id": "9bea2a21c86e65cc",
   "outputs": [],
   "execution_count": 16
  },
  {
   "metadata": {},
   "cell_type": "markdown",
   "source": "Exercise 8",
   "id": "68adeaad4f55cb37"
  },
  {
   "metadata": {
    "ExecuteTime": {
     "end_time": "2025-05-13T17:00:09.249570Z",
     "start_time": "2025-05-13T17:00:08.939097Z"
    }
   },
   "cell_type": "code",
   "source": [
    "# Apply gamma correction\n",
    "gamma_0_5 = gamma_map(im_org, 0.5)\n",
    "gamma_2 = gamma_map(im_org, 2.0)\n",
    "\n",
    "# Create side-by-side plot\n",
    "fig, ax = plt.subplots(nrows=1, ncols=3, figsize=(12, 5))\n",
    "\n",
    "# Original image\n",
    "ax[0].imshow(im_org, cmap='gray', vmin=0, vmax=255)\n",
    "ax[0].set_title('Original Image')\n",
    "ax[0].axis('off')\n",
    "\n",
    "# Gamma = 0.5 (brightened)\n",
    "ax[1].imshow(gamma_0_5, cmap='gray', vmin=0, vmax=255)\n",
    "ax[1].set_title(r'$\\gamma = 0.5$')\n",
    "ax[1].axis('off')\n",
    "\n",
    "# Gamma = 2.0 (darkened)\n",
    "ax[2].imshow(gamma_2, cmap='gray', vmin=0, vmax=255)\n",
    "ax[2].set_title(r'$\\gamma = 2.0$')\n",
    "ax[2].axis('off')\n",
    "\n",
    "plt.tight_layout()\n",
    "plt.show()\n"
   ],
   "id": "1f6042692f373f73",
   "outputs": [],
   "execution_count": 19
  },
  {
   "metadata": {},
   "cell_type": "markdown",
   "source": "Exercise 9",
   "id": "2737801c4eecb218"
  },
  {
   "metadata": {
    "ExecuteTime": {
     "end_time": "2025-05-13T17:02:59.100042Z",
     "start_time": "2025-05-13T17:02:59.093429Z"
    }
   },
   "cell_type": "code",
   "source": [
    "def threshold_image(img_in, thres):\n",
    "    \"\"\"\n",
    "    Apply a threshold to an image and return the resulting binary image.\n",
    "\n",
    "    :param img_in: Input image (grayscale, uint8 or float)\n",
    "    :param thres: The threshold value in the range [0, 255]\n",
    "    :return: Binary image (uint8) where background is 0 and foreground is 255\n",
    "    \"\"\"\n",
    "    # Convert image to float in range [0, 1] if needed\n",
    "    img_float = img_as_float(img_in)\n",
    "\n",
    "    # Normalize threshold to float in [0, 1]\n",
    "    thres_float = thres / 255.0\n",
    "\n",
    "    # Apply threshold\n",
    "    binary = img_float >= thres_float\n",
    "\n",
    "    # Convert boolean mask to uint8 (0 or 255)\n",
    "    return img_as_ubyte(binary)"
   ],
   "id": "256cae61e8a9a7c5",
   "outputs": [],
   "execution_count": 21
  },
  {
   "metadata": {},
   "cell_type": "markdown",
   "source": "Exercise 10",
   "id": "fbc3e5f794d1a63f"
  },
  {
   "metadata": {
    "ExecuteTime": {
     "end_time": "2025-05-13T17:04:05.746424Z",
     "start_time": "2025-05-13T17:04:05.244846Z"
    }
   },
   "cell_type": "code",
   "source": [
    "# Load image\n",
    "img = io.imread(\"data/vertebra.png\")\n",
    "\n",
    "# Try different thresholds\n",
    "thresholds = [110, 130, 160]\n",
    "\n",
    "fig, ax = plt.subplots(1, len(thresholds) + 1, figsize=(15, 5))\n",
    "\n",
    "# Original\n",
    "ax[0].imshow(img, cmap='gray', vmin=0, vmax=255)\n",
    "ax[0].set_title(\"Original\")\n",
    "ax[0].axis('off')\n",
    "\n",
    "# Thresholded versions\n",
    "for i, t in enumerate(thresholds):\n",
    "    th_img = threshold_image(img, t)\n",
    "    ax[i + 1].imshow(th_img, cmap='gray', vmin=0, vmax=255)\n",
    "    ax[i + 1].set_title(f\"Threshold = {t}\")\n",
    "    ax[i + 1].axis('off')\n",
    "\n",
    "plt.tight_layout()\n",
    "plt.show()"
   ],
   "id": "1b9b2f3abd2a1dc",
   "outputs": [],
   "execution_count": 23
  },
  {
   "metadata": {},
   "cell_type": "markdown",
   "source": "Exercise 11",
   "id": "9aa711956d04bb38"
  },
  {
   "metadata": {
    "ExecuteTime": {
     "end_time": "2025-05-13T17:06:10.890948Z",
     "start_time": "2025-05-13T17:06:10.059003Z"
    }
   },
   "cell_type": "code",
   "source": [
    "from skimage.filters import threshold_otsu\n",
    "\n",
    "# Load image\n",
    "img = io.imread(\"data/vertebra.png\")\n",
    "\n",
    "# Compute optimal threshold using Otsu's method\n",
    "otsu_thresh = threshold_otsu(img)\n",
    "print(f\"Otsu's threshold: {otsu_thresh}\")\n",
    "\n",
    "# Apply threshold using your function\n",
    "thresh_img = threshold_image(img, otsu_thresh)\n",
    "\n",
    "# Show original and thresholded image\n",
    "fig, ax = plt.subplots(1, 2, figsize=(10, 5))\n",
    "\n",
    "ax[0].imshow(img, cmap='gray', vmin=0, vmax=255)\n",
    "ax[0].set_title(\"Original Image\")\n",
    "ax[0].axis('off')\n",
    "\n",
    "ax[1].imshow(thresh_img, cmap='gray', vmin=0, vmax=255)\n",
    "ax[1].set_title(f\"Otsu Threshold = {otsu_thresh}\")\n",
    "ax[1].axis('off')\n",
    "\n",
    "plt.tight_layout()\n",
    "plt.show()"
   ],
   "id": "b0e09586e1b0debf",
   "outputs": [
    {
     "name": "stdout",
     "output_type": "stream",
     "text": [
      "Otsu's threshold: 148\n"
     ]
    }
   ],
   "execution_count": 24
  },
  {
   "metadata": {},
   "cell_type": "markdown",
   "source": "Exercise 12",
   "id": "b4e77d78bb49cdc8"
  },
  {
   "metadata": {
    "ExecuteTime": {
     "end_time": "2025-05-13T17:08:01.355121Z",
     "start_time": "2025-05-13T17:08:00.788622Z"
    }
   },
   "cell_type": "code",
   "source": [
    "from skimage import io, color\n",
    "import matplotlib.pyplot as plt\n",
    "\n",
    "# Optional: from previous exercises\n",
    "from skimage.filters import threshold_otsu\n",
    "from skimage import img_as_ubyte, img_as_float\n",
    "import numpy as np\n",
    "\n",
    "def threshold_image(img_in, thres):\n",
    "    img_float = img_as_float(img_in)\n",
    "    binary = img_float >= (thres / 255.0)\n",
    "    return img_as_ubyte(binary)\n",
    "\n",
    "# Load image (color)\n",
    "img_color = io.imread(\"data/dark_background.png\")\n",
    "\n",
    "# Convert to grayscale\n",
    "img_gray = color.rgb2gray(img_color)\n",
    "img_gray_u8 = img_as_ubyte(img_gray)\n",
    "\n",
    "# Compute threshold (try both Otsu and manual)\n",
    "otsu_thresh = threshold_otsu(img_gray_u8)\n",
    "silhouette = threshold_image(img_gray_u8, otsu_thresh)\n",
    "\n",
    "# Show results\n",
    "fig, ax = plt.subplots(1, 3, figsize=(15, 5))\n",
    "\n",
    "ax[0].imshow(img_color)\n",
    "ax[0].set_title(\"Original Color Image\")\n",
    "ax[0].axis(\"off\")\n",
    "\n",
    "ax[1].imshow(img_gray, cmap='gray')\n",
    "ax[1].set_title(\"Grayscale Image\")\n",
    "ax[1].axis(\"off\")\n",
    "\n",
    "ax[2].imshow(silhouette, cmap='gray')\n",
    "ax[2].set_title(f\"Silhouette (Otsu Threshold = {otsu_thresh})\")\n",
    "ax[2].axis(\"off\")\n",
    "\n",
    "plt.tight_layout()\n",
    "plt.show()\n"
   ],
   "id": "ca9e5d6d5172d827",
   "outputs": [],
   "execution_count": 25
  },
  {
   "metadata": {},
   "cell_type": "markdown",
   "source": "Exercise 13\n",
   "id": "4bda8d13b93c838e"
  },
  {
   "metadata": {
    "ExecuteTime": {
     "end_time": "2025-05-13T17:11:00.281176Z",
     "start_time": "2025-05-13T17:10:57.890543Z"
    }
   },
   "cell_type": "code",
   "source": [
    "def detect_dtu_signs(img):\n",
    "    \"\"\"\n",
    "    Detect blue DTU road signs in an image by thresholding RGB values.\n",
    "\n",
    "    :param img: Input color image (RGB)\n",
    "    :return: Binary image (True for sign pixels, False otherwise)\n",
    "    \"\"\"\n",
    "    r_comp = img[:, :, 0]\n",
    "    g_comp = img[:, :, 1]\n",
    "    b_comp = img[:, :, 2]\n",
    "\n",
    "    # Apply thresholding to isolate blue sign\n",
    "    segm_blue = (\n",
    "        (r_comp < 10) &\n",
    "        (g_comp > 85) & (g_comp < 105) &\n",
    "        (b_comp > 180) & (b_comp < 200)\n",
    "    )\n",
    "\n",
    "    return segm_blue\n",
    "\n",
    "\n",
    "# Load image\n",
    "img = io.imread(\"data/DTUSigns2.jpg\")\n",
    "\n",
    "# Detect sign\n",
    "segm = detect_dtu_signs(img)\n",
    "\n",
    "# Visualize the result\n",
    "plt.figure(figsize=(12, 5))\n",
    "plt.subplot(1, 2, 1)\n",
    "plt.imshow(img)\n",
    "plt.title(\"Original Image\")\n",
    "plt.axis(\"off\")\n",
    "\n",
    "plt.subplot(1, 2, 2)\n",
    "plt.imshow(img_as_ubyte(segm), cmap='gray')\n",
    "plt.title(\"Segmented Blue Sign\")\n",
    "plt.axis(\"off\")\n",
    "\n",
    "plt.tight_layout()\n",
    "plt.show()"
   ],
   "id": "a55fb1a0425e40e3",
   "outputs": [],
   "execution_count": 26
  },
  {
   "metadata": {},
   "cell_type": "markdown",
   "source": "Exercise 15",
   "id": "b317c8ea43941efd"
  },
  {
   "metadata": {
    "ExecuteTime": {
     "end_time": "2025-05-13T17:14:42.517771Z",
     "start_time": "2025-05-13T17:14:36.946558Z"
    }
   },
   "cell_type": "code",
   "source": [
    "def detect_signs_hsv(img):\n",
    "    \"\"\"\n",
    "    Detect blue and red road signs using HSV thresholding.\n",
    "\n",
    "    :param img: Input RGB image\n",
    "    :return: Binary mask (True = sign pixels)\n",
    "    \"\"\"\n",
    "    hsv_img = color.rgb2hsv(img)\n",
    "    hue = hsv_img[:, :, 0]\n",
    "    sat = hsv_img[:, :, 1]\n",
    "    val = hsv_img[:, :, 2]\n",
    "\n",
    "    # Blue sign thresholding (Hue ~0.6–0.7)\n",
    "    blue_mask = (\n",
    "        (hue > 0.55) & (hue < 0.7) &\n",
    "        (sat > 0.4) &\n",
    "        (val > 0.2)\n",
    "    )\n",
    "\n",
    "    # Red sign thresholding (Hue ~0.0–0.05 or ~0.95–1.0)\n",
    "    red_mask = (\n",
    "        ((hue < 0.05) | (hue > 0.95)) &\n",
    "        (sat > 0.4) &\n",
    "        (val > 0.2)\n",
    "    )\n",
    "\n",
    "    # Combine masks\n",
    "    combined_mask = blue_mask | red_mask\n",
    "    return combined_mask\n",
    "\n",
    "# Load image\n",
    "im_org = io.imread(\"data/DTUSigns2.jpg\")\n",
    "\n",
    "# Run HSV-based detection\n",
    "mask = detect_signs_hsv(im_org)\n",
    "\n",
    "# Show result\n",
    "fig, (ax1, ax2) = plt.subplots(1, 2, figsize=(12, 5))\n",
    "ax1.imshow(im_org)\n",
    "ax1.set_title(\"Original Image\")\n",
    "ax1.axis(\"off\")\n",
    "\n",
    "ax2.imshow(img_as_ubyte(mask), cmap='gray')\n",
    "ax2.set_title(\"HSV-Based Sign Detection\")\n",
    "ax2.axis(\"off\")\n",
    "\n",
    "plt.tight_layout()\n",
    "plt.show()"
   ],
   "id": "918ceda1a1772484",
   "outputs": [],
   "execution_count": 29
  }
 ],
 "metadata": {
  "kernelspec": {
   "display_name": "Python 3",
   "language": "python",
   "name": "python3"
  },
  "language_info": {
   "codemirror_mode": {
    "name": "ipython",
    "version": 2
   },
   "file_extension": ".py",
   "mimetype": "text/x-python",
   "name": "python",
   "nbconvert_exporter": "python",
   "pygments_lexer": "ipython2",
   "version": "2.7.6"
  }
 },
 "nbformat": 4,
 "nbformat_minor": 5
}
