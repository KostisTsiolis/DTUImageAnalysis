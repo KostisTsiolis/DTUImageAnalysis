{
 "cells": [
  {
   "cell_type": "code",
   "id": "initial_id",
   "metadata": {
    "collapsed": true,
    "ExecuteTime": {
     "end_time": "2025-05-13T17:39:35.830174Z",
     "start_time": "2025-05-13T17:39:35.816876Z"
    }
   },
   "source": [
    "from skimage import io\n",
    "from skimage.util import img_as_ubyte\n",
    "import matplotlib.pyplot as plt\n",
    "import numpy as np\n",
    "import glob\n",
    "from sklearn.decomposition import PCA\n",
    "from skimage.transform import SimilarityTransform\n",
    "from skimage.transform import warp\n",
    "import os\n",
    "import pathlib\n",
    "\n",
    "%matplotlib qt\n",
    "\n",
    "from Ex8_AuxiliaryFunctions import *"
   ],
   "outputs": [],
   "execution_count": 7
  },
  {
   "metadata": {},
   "cell_type": "markdown",
   "source": "Exercise 1",
   "id": "886167b50d67e5c8"
  },
  {
   "metadata": {
    "ExecuteTime": {
     "end_time": "2025-05-13T17:44:02.101072Z",
     "start_time": "2025-05-13T17:39:40.998723Z"
    }
   },
   "cell_type": "code",
   "source": [
    "raw_dir = \"data/training_data_small/\"\n",
    "preprocess_dir = \"data/preprocessed_data_small/\"\n",
    "\n",
    "os.makedirs(preprocess_dir, exist_ok=True)\n",
    "preprocess_all_cats(raw_dir, preprocess_dir)"
   ],
   "id": "7ab52bbcef6ff009",
   "outputs": [
    {
     "name": "stderr",
     "output_type": "stream",
     "text": [
      "/Users/s240051/Desktop/Image Analysis/DTUImageAnalysis/exercises/ex8-CatsCatsCats/Ex8_AuxiliaryFunctions.py:81: UserWarning: data/preprocessed_data_small//00000059_002_preprocessed.jpg is a low contrast image\n",
      "  io.imsave(out_name, proc_img)\n"
     ]
    }
   ],
   "execution_count": 8
  },
  {
   "metadata": {},
   "cell_type": "markdown",
   "source": "Exercise 2",
   "id": "878bee73bb4146a7"
  },
  {
   "metadata": {
    "ExecuteTime": {
     "end_time": "2025-05-13T17:46:32.296434Z",
     "start_time": "2025-05-13T17:46:32.145132Z"
    }
   },
   "cell_type": "code",
   "source": [
    "files = glob.glob(f\"{preprocess_dir}/*.jpg\")\n",
    "\n",
    "height, width, channels = io.imread(files[0]).shape\n",
    "data_matrix = np.zeros((len(files), height * width * channels))\n",
    "for i, f in enumerate(files):\n",
    "    data_matrix[i, :] = io.imread(f).flatten()"
   ],
   "id": "81cd3f6199e62fa6",
   "outputs": [
    {
     "ename": "ValueError",
     "evalue": "could not broadcast input array from shape (625500,) into shape (388800,)",
     "output_type": "error",
     "traceback": [
      "\u001B[0;31m---------------------------------------------------------------------------\u001B[0m",
      "\u001B[0;31mValueError\u001B[0m                                Traceback (most recent call last)",
      "Cell \u001B[0;32mIn[10], line 6\u001B[0m\n\u001B[1;32m      4\u001B[0m data_matrix \u001B[38;5;241m=\u001B[39m np\u001B[38;5;241m.\u001B[39mzeros((\u001B[38;5;28mlen\u001B[39m(files), height \u001B[38;5;241m*\u001B[39m width \u001B[38;5;241m*\u001B[39m channels))\n\u001B[1;32m      5\u001B[0m \u001B[38;5;28;01mfor\u001B[39;00m i, f \u001B[38;5;129;01min\u001B[39;00m \u001B[38;5;28menumerate\u001B[39m(files):\n\u001B[0;32m----> 6\u001B[0m     \u001B[43mdata_matrix\u001B[49m\u001B[43m[\u001B[49m\u001B[43mi\u001B[49m\u001B[43m,\u001B[49m\u001B[43m \u001B[49m\u001B[43m:\u001B[49m\u001B[43m]\u001B[49m \u001B[38;5;241m=\u001B[39m io\u001B[38;5;241m.\u001B[39mimread(f)\u001B[38;5;241m.\u001B[39mflatten()\n",
      "\u001B[0;31mValueError\u001B[0m: could not broadcast input array from shape (625500,) into shape (388800,)"
     ]
    }
   ],
   "execution_count": 10
  },
  {
   "metadata": {},
   "cell_type": "markdown",
   "source": "Exercise 3",
   "id": "b3407c20327805c5"
  },
  {
   "metadata": {
    "ExecuteTime": {
     "end_time": "2025-05-13T17:46:51.391800Z",
     "start_time": "2025-05-13T17:46:45.197022Z"
    }
   },
   "cell_type": "code",
   "source": "average_cat = np.mean(data_matrix, axis=0)",
   "id": "f69740e0c905f429",
   "outputs": [],
   "execution_count": 11
  },
  {
   "metadata": {},
   "cell_type": "markdown",
   "source": "Exercise 4",
   "id": "c818b536140a9acf"
  },
  {
   "metadata": {
    "ExecuteTime": {
     "end_time": "2025-05-13T17:46:55.544616Z",
     "start_time": "2025-05-13T17:46:54.065323Z"
    }
   },
   "cell_type": "code",
   "source": [
    "mean_cat_img = average_cat.reshape((height, width, channels)).astype(np.uint8)\n",
    "\n",
    "# Display the mean cat image\n",
    "plt.figure(figsize=(5, 5))\n",
    "plt.imshow(mean_cat_img)\n",
    "plt.title(\"Average Cat Face\")\n",
    "plt.axis(\"off\")\n",
    "plt.show()"
   ],
   "id": "68975c9646e24314",
   "outputs": [],
   "execution_count": 12
  },
  {
   "metadata": {},
   "cell_type": "markdown",
   "source": "Exercise 7",
   "id": "6b5ffb173b282cd3"
  },
  {
   "metadata": {},
   "cell_type": "code",
   "outputs": [],
   "execution_count": null,
   "source": [
    "im_miss = io.imread(\"data/MissingCatProcessed.jpg\")\n",
    "im_miss_flat = im_miss.flatten()"
   ],
   "id": "93b920b191cc6264"
  },
  {
   "metadata": {},
   "cell_type": "markdown",
   "source": "Exercise 8",
   "id": "d672a3b072a6b2a9"
  },
  {
   "metadata": {},
   "cell_type": "code",
   "outputs": [],
   "execution_count": null,
   "source": [
    "sub_data = data_matrix - im_miss_flat\n",
    "sub_distances = np.linalg.norm(sub_data, axis=1)"
   ],
   "id": "a270e990913b624"
  },
  {
   "metadata": {},
   "cell_type": "markdown",
   "source": "Exercise 9",
   "id": "ccc60f1a0e65518e"
  },
  {
   "metadata": {},
   "cell_type": "code",
   "outputs": [],
   "execution_count": null,
   "source": "min_idx = np.argmin(sub_distances)",
   "id": "97bd06db48a887c1"
  },
  {
   "metadata": {},
   "cell_type": "markdown",
   "source": "Exercise 10",
   "id": "b85b77de775e2e7"
  },
  {
   "metadata": {},
   "cell_type": "code",
   "outputs": [],
   "execution_count": null,
   "source": [
    "similar_cat = create_u_byte_image_from_vector(data_matrix[min_idx, :], height, width, channels)\n",
    "\n",
    "fig, ax = plt.subplots(1, 1, figsize=(6, 6))\n",
    "plt.imshow(similar_cat)\n",
    "ax.set_title(\"Similar cat\")\n",
    "ax.set_axis_off()\n",
    "plt.show()"
   ],
   "id": "b7b37320584a9979"
  },
  {
   "metadata": {},
   "cell_type": "markdown",
   "source": "Exercise 11",
   "id": "63ff2bc7ff9c64f7"
  },
  {
   "metadata": {},
   "cell_type": "code",
   "outputs": [],
   "execution_count": null,
   "source": [
    "max_idx = np.argmax(sub_distances)\n",
    "different_cat = create_u_byte_image_from_vector(data_matrix[max_idx, :], height, width, channels)\n",
    "fig, ax = plt.subplots(1, 1, figsize=(6, 6))\n",
    "plt.imshow(different_cat)\n",
    "ax.set_title(\"Different cat\")\n",
    "ax.set_axis_off()\n",
    "plt.show()"
   ],
   "id": "a0e4fb0bf97d8343"
  },
  {
   "metadata": {},
   "cell_type": "markdown",
   "source": "Exercise 12",
   "id": "b0b96117838b48f8"
  },
  {
   "metadata": {},
   "cell_type": "code",
   "outputs": [],
   "execution_count": null,
   "source": [
    "print(\"Computing PCA\")\n",
    "cats_pca = PCA(n_components=50)\n",
    "cats_pca.fit(data_matrix)"
   ],
   "id": "9d8ce1d7cdfa5873"
  },
  {
   "metadata": {},
   "cell_type": "markdown",
   "source": "Exercise 13",
   "id": "f4f9097d51da2a79"
  },
  {
   "metadata": {},
   "cell_type": "code",
   "outputs": [],
   "execution_count": null,
   "source": [
    "explained_variance = cats_pca.explained_variance_ratio_\n",
    "fig, ax = plt.subplots(1,2, figsize=(10,4))\n",
    "ax[0].plot(explained_variance)\n",
    "ax[0].set_ylabel(\"Ratio of explained variance\")\n",
    "ax[0].set_xlabel(\"Component number\")\n",
    "ax[1].plot(explained_variance.cumsum())\n",
    "ax[1].set_ylabel(\"Accumulative explained variance\")\n",
    "ax[1].set_xlabel(\"Number of components\")\n",
    "plt.show()"
   ],
   "id": "e9c7c409ebe1e376"
  },
  {
   "metadata": {},
   "cell_type": "markdown",
   "source": "Exercise 14",
   "id": "9c6146574490e286"
  },
  {
   "metadata": {},
   "cell_type": "code",
   "outputs": [],
   "execution_count": null,
   "source": "print(\"The first component explains {:.2f}% of the variance\".format(explained_variance[0] * 100))",
   "id": "32bf25bc30bd2770"
  },
  {
   "metadata": {},
   "cell_type": "code",
   "outputs": [],
   "execution_count": null,
   "source": "Exercise 15",
   "id": "60fdb149f54497a6"
  },
  {
   "metadata": {},
   "cell_type": "code",
   "outputs": [],
   "execution_count": null,
   "source": "components = cats_pca.transform(data_matrix)",
   "id": "e1473d2b62fd085f"
  },
  {
   "metadata": {},
   "cell_type": "markdown",
   "source": "Exercise 16",
   "id": "c6d742320046b2e3"
  },
  {
   "metadata": {},
   "cell_type": "code",
   "outputs": [],
   "execution_count": null,
   "source": [
    "pc_1 = components[:, 0]\n",
    "pc_2 = components[:, 1]\n",
    "fig, ax = plt.subplots(1, 1, figsize=(6, 6))\n",
    "ax.plot(pc_1, pc_2, \"o\")\n",
    "ax.set_xlabel(\"PC1\")\n",
    "ax.set_ylabel(\"PC2\")\n",
    "plt.show()"
   ],
   "id": "66829420830c67e"
  },
  {
   "metadata": {},
   "cell_type": "markdown",
   "source": "Exercise 17",
   "id": "7d0d71c784fc05e2"
  },
  {
   "metadata": {},
   "cell_type": "code",
   "outputs": [],
   "execution_count": null,
   "source": [
    "def nargmax(arr, n):\n",
    "    # Like np.argmax but returns the n largest values\n",
    "    idx = np.argpartition(arr, -n)[-n:]\n",
    "    return idx[np.argsort(arr[idx])][::-1]\n",
    "\n",
    "def nargmin(arr, n):\n",
    "    # Like np.argmin but returns the n smallest values\n",
    "    idx = np.argpartition(arr, n)[:n]\n",
    "    return idx[np.argsort(arr[idx])]\n",
    "\n",
    "def plot_pca_space_and_img(pc_idx):\n",
    "    _, ax = plt.subplots(1, 2, figsize=(6, 3))\n",
    "    ax[0].plot(pc_1, pc_2, \"o\")\n",
    "    ax[0].plot(pc_1[pc_idx], pc_2[pc_idx], \"ro\", markersize=10)\n",
    "    ax[0].set_xlabel(\"PC1\")\n",
    "    ax[0].set_ylabel(\"PC2\")\n",
    "\n",
    "    img = create_u_byte_image_from_vector(data_matrix[pc_idx, :], height, width, channels)\n",
    "    ax[1].imshow(img)\n",
    "    ax[1].set_title(\"Cat\")\n",
    "    ax[1].set_axis_off()\n",
    "    plt.show()\n",
    "\n",
    "\n",
    "    max_pc1s = nargmax(pc_1, 4)\n",
    "for i in max_pc1s:\n",
    "    plot_pca_space_and_img(i)"
   ],
   "id": "3a1014b4ab74b2cd"
  },
  {
   "metadata": {},
   "cell_type": "markdown",
   "source": "Exercise 18",
   "id": "18c1f95b877840bc"
  },
  {
   "metadata": {},
   "cell_type": "code",
   "outputs": [],
   "execution_count": null,
   "source": [
    "filtered_matrix = data_matrix.copy()\n",
    "\n",
    "# Remove the 8 largest values of PC1, 5 smallest values of PC1,\n",
    "# 5 largest values of PC2 and 5 smallest values of PC2\n",
    "max_pc1s = nargmax(pc_1, 8)\n",
    "min_pc1s = nargmin(pc_1, 5)\n",
    "max_pc2s = nargmax(pc_2, 5)\n",
    "min_pc2s = nargmin(pc_2, 5)\n",
    "\n",
    "remove_idx = np.concatenate((max_pc1s, min_pc1s, max_pc2s, min_pc2s))\n",
    "filtered_matrix = np.delete(filtered_matrix, remove_idx, axis=0)\n",
    "\n",
    "# Recompute PCA\n",
    "cats_pca = PCA(n_components=50)\n",
    "cats_pca.fit(filtered_matrix)\n",
    "components = cats_pca.transform(filtered_matrix)\n",
    "\n",
    "\n",
    "pc_1 = components[:, 0]\n",
    "pc_2 = components[:, 1]\n",
    "fig, ax = plt.subplots(1, 1, figsize=(6, 6))\n",
    "ax.plot(pc_1, pc_2, \"o\")\n",
    "ax.set_xlabel(\"PC1\")\n",
    "ax.set_ylabel(\"PC2\")\n",
    "plt.show()"
   ],
   "id": "c31de648c7d14dee"
  },
  {
   "metadata": {},
   "cell_type": "markdown",
   "source": "Exercise 19",
   "id": "8a620aacf645e61b"
  },
  {
   "metadata": {},
   "cell_type": "code",
   "outputs": [],
   "execution_count": null,
   "source": [
    "print(\"Maximal value of PC1: {:.8f}\".format(np.max(cats_pca.components_[0, :])))\n",
    "print(\"Minimal value of PC1: {:.8f}\".format(np.min(cats_pca.components_[0, :])))\n",
    "\n",
    "w = 60000\n",
    "synth_cat = average_cat + w * cats_pca.components_[0, :]"
   ],
   "id": "48a96f3f9f2ccdc9"
  },
  {
   "metadata": {},
   "cell_type": "markdown",
   "source": "Exercise 20",
   "id": "e5adb0397bd05b5e"
  },
  {
   "metadata": {},
   "cell_type": "code",
   "outputs": [],
   "execution_count": null,
   "source": [
    "synth_cat_img = create_u_byte_image_from_vector(synth_cat, height, width, channels)\n",
    "plt.imshow(synth_cat_img)\n",
    "plt.show()"
   ],
   "id": "cde1b13332a24968"
  },
  {
   "metadata": {},
   "cell_type": "markdown",
   "source": "Exercise 21",
   "id": "2cb2cb0eee0fda13"
  },
  {
   "metadata": {},
   "cell_type": "code",
   "outputs": [],
   "execution_count": null,
   "source": [
    "print(\"Maximal value of PC2: {:.8f}\".format(np.max(cats_pca.components_[1, :])))\n",
    "print(\"Minimal value of PC2: {:.8f}\".format(np.min(cats_pca.components_[1, :])))\n",
    "\n",
    "w0, w1 = 60000, 60000\n",
    "synth_cat = average_cat + w0 * cats_pca.components_[0, :] + w1 * cats_pca.components_[1, :]\n",
    "synth_cat_img = create_u_byte_image_from_vector(synth_cat, height, width, channels)\n",
    "plt.imshow(synth_cat_img)\n",
    "plt.show()"
   ],
   "id": "a298f47f6a7654d8"
  },
  {
   "metadata": {},
   "cell_type": "markdown",
   "source": "Exercise 23",
   "id": "6d756d3c3fd07d24"
  },
  {
   "metadata": {},
   "cell_type": "code",
   "outputs": [],
   "execution_count": null,
   "source": [
    "def random_cat_generator():\n",
    "    w = np.random.randn(50)*50000\n",
    "    w = w*np.exp(-np.arange(50)) # Decrease the influence of the higher PCs\n",
    "    synth_cat = average_cat + np.dot(w, cats_pca.components_)\n",
    "    return create_u_byte_image_from_vector(synth_cat, height, width, channels)\n",
    "\n",
    "fig, ax = plt.subplots(1, 3, figsize=(12, 4))\n",
    "ax[0].imshow(random_cat_generator())\n",
    "ax[1].imshow(random_cat_generator())\n",
    "ax[2].imshow(random_cat_generator())\n",
    "plt.show()"
   ],
   "id": "9d9b39a7f2bee9c1"
  },
  {
   "metadata": {},
   "cell_type": "markdown",
   "source": "Exercise 24",
   "id": "817bcbdf6ccb5ae4"
  },
  {
   "metadata": {},
   "cell_type": "code",
   "outputs": [],
   "execution_count": null,
   "source": [
    "im_miss = io.imread(\"data/MissingCatProcessed.jpg\")\n",
    "im_miss_flat = im_miss.flatten()\n",
    "im_miss_flat = im_miss_flat.reshape(1, -1)\n",
    "pca_coords = cats_pca.transform(im_miss_flat)\n",
    "pca_coords = pca_coords.flatten()"
   ],
   "id": "6c07c69a3d25636c"
  },
  {
   "metadata": {},
   "cell_type": "markdown",
   "source": "Exercise 25",
   "id": "960d9a796e80efce"
  },
  {
   "metadata": {},
   "cell_type": "code",
   "outputs": [],
   "execution_count": null,
   "source": [
    "components = cats_pca.transform(filtered_matrix)\n",
    "pc_1 = components[:, 0]\n",
    "pc_2 = components[:, 1]\n",
    "fig, ax = plt.subplots(1, 1, figsize=(6, 6))\n",
    "ax.plot(pc_1, pc_2, \"o\")\n",
    "ax.plot(pca_coords[0], pca_coords[1], \"ro\", label=\"Missing cat\")\n",
    "ax.set_xlabel(\"PC1\")\n",
    "ax.set_ylabel(\"PC2\")\n",
    "plt.legend()\n",
    "plt.show()"
   ],
   "id": "676c2b87004940a4"
  },
  {
   "metadata": {},
   "cell_type": "markdown",
   "source": "Exercise 26",
   "id": "8332ae5b804e918"
  },
  {
   "metadata": {},
   "cell_type": "code",
   "outputs": [],
   "execution_count": null,
   "source": [
    "n_components_to_use = 10\n",
    "synth_cat = average_cat\n",
    "for idx in range(n_components_to_use):\n",
    "\tsynth_cat = synth_cat + pca_coords[idx] * cats_pca.components_[idx, :]\n",
    "\n",
    "fig, ax = plt.subplots(ncols=2, figsize=(16, 6))\n",
    "ax[0].imshow(im_miss)\n",
    "ax[0].set_title('The Real Missing Cat')\n",
    "ax[1].imshow(create_u_byte_image_from_vector(synth_cat, height, width, channels))\n",
    "ax[1].set_title('The Synthetic Missing cat')\n",
    "for a in ax:\n",
    "\ta.axis('off')\n",
    "plt.tight_layout()\n",
    "plt.show()"
   ],
   "id": "a6b9ff6d04f80c07"
  },
  {
   "metadata": {},
   "cell_type": "markdown",
   "source": "Exercise 27",
   "id": "860f3cb2821d5edb"
  },
  {
   "metadata": {},
   "cell_type": "code",
   "outputs": [],
   "execution_count": null,
   "source": [
    "comp_sub = components - pca_coords\n",
    "pca_distances = np.linalg.norm(comp_sub, axis=1)\n",
    "\n",
    "best_match = np.argmin(pca_distances)\n",
    "best_twin_cat = data_matrix[best_match, :]\n",
    "worst_match = np.argmax(pca_distances)\n",
    "worst_twin_cat = data_matrix[worst_match, :]\n",
    "fig, ax = plt.subplots(ncols=3, figsize=(16, 6))\n",
    "ax[0].imshow(im_miss)\n",
    "ax[0].set_title('The Real Missing Cat')\n",
    "ax[1].imshow(create_u_byte_image_from_vector(best_twin_cat, height, width, channels))\n",
    "ax[1].set_title('The Best Matching Twin Cat')\n",
    "ax[2].imshow(create_u_byte_image_from_vector(worst_twin_cat, height, width, channels))\n",
    "ax[2].set_title('The Worst Matching Twin Cat')\n",
    "for a in ax:\n",
    "    a.axis('off')\n",
    "plt.tight_layout()\n",
    "plt.show()"
   ],
   "id": "4dedd96dae3f0f51"
  },
  {
   "metadata": {},
   "cell_type": "markdown",
   "source": "Exercise 28",
   "id": "f280513b3b168d62"
  },
  {
   "metadata": {},
   "cell_type": "code",
   "outputs": [],
   "execution_count": null,
   "source": [
    "n_best = 5\n",
    "best = np.argpartition(pca_distances, n_best)\n",
    "fig, ax = plt.subplots(ncols=n_best, figsize=(16, 4))\n",
    "for i in range(n_best):\n",
    "    candidate_twin_cat = data_matrix[best[i], :]\n",
    "    ax[i].imshow(create_u_byte_image_from_vector(candidate_twin_cat, height, width, channels))\n",
    "    ax[i].axis('off')\n",
    "\n",
    "fig.suptitle(f\"The {n_best} most similar cats\")\n",
    "plt.tight_layout()\n",
    "plt.show()"
   ],
   "id": "cf829733f7aef14c"
  }
 ],
 "metadata": {
  "kernelspec": {
   "display_name": "Python 3",
   "language": "python",
   "name": "python3"
  },
  "language_info": {
   "codemirror_mode": {
    "name": "ipython",
    "version": 2
   },
   "file_extension": ".py",
   "mimetype": "text/x-python",
   "name": "python",
   "nbconvert_exporter": "python",
   "pygments_lexer": "ipython2",
   "version": "2.7.6"
  }
 },
 "nbformat": 4,
 "nbformat_minor": 5
}
