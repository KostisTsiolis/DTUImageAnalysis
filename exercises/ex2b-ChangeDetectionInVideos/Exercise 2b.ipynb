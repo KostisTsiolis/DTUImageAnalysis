{
 "cells": [
  {
   "cell_type": "code",
   "id": "initial_id",
   "metadata": {
    "collapsed": true,
    "ExecuteTime": {
     "end_time": "2025-04-06T17:49:53.031992Z",
     "start_time": "2025-04-06T17:49:39.482684Z"
    }
   },
   "source": [
    "qimport cv2\n",
    "\n",
    "# Open the default camera\n",
    "cap = cv2.VideoCapture(0)\n",
    "\n",
    "# Allow the camera to warm up\n",
    "print(\"Initializing camera...\")\n",
    "ret, frame = cap.read()\n",
    "\n",
    "if not ret:\n",
    "    print(\"Failed to grab initial frame.\")\n",
    "    cap.release()\n",
    "    exit()\n",
    "\n",
    "# Convert the first frame to grayscale and store as background\n",
    "background = cv2.cvtColor(frame, cv2.COLOR_BGR2GRAY)\n",
    "\n",
    "print(\"Press 'q' to quit.\")\n",
    "\n",
    "while True:\n",
    "    # Capture next frame\n",
    "    ret, frame = cap.read()\n",
    "    if not ret:\n",
    "        break\n",
    "\n",
    "    # Convert current frame to grayscale\n",
    "    gray = cv2.cvtColor(frame, cv2.COLOR_BGR2GRAY)\n",
    "\n",
    "    # Compute absolute difference from background\n",
    "    diff = cv2.absdiff(background, gray)\n",
    "\n",
    "    # Optional: threshold to highlight strong changes\n",
    "    _, thresh = cv2.threshold(diff, 30, 255, cv2.THRESH_BINARY)\n",
    "\n",
    "    # Show the original, difference, and thresholded difference\n",
    "    cv2.imshow(\"Original\", frame)\n",
    "    cv2.imshow(\"Difference\", diff)\n",
    "    cv2.imshow(\"Motion Mask\", thresh)\n",
    "\n",
    "    # Press 'q' to exit\n",
    "    if cv2.waitKey(1) & 0xFF == ord('q'):\n",
    "        break\n",
    "\n",
    "# Cleanup\n",
    "cap.release()\n",
    "cv2.destroyAllWindows()\n"
   ],
   "outputs": [
    {
     "name": "stdout",
     "output_type": "stream",
     "text": [
      "Initializing camera...\n",
      "Press 'q' to quit.\n"
     ]
    }
   ],
   "execution_count": 1
  },
  {
   "metadata": {},
   "cell_type": "markdown",
   "source": "Exercise 2",
   "id": "a799caab162d3623"
  },
  {
   "metadata": {
    "ExecuteTime": {
     "end_time": "2025-04-06T17:52:01.543457Z",
     "start_time": "2025-04-06T17:52:01.513592Z"
    }
   },
   "cell_type": "code",
   "source": [
    "#Open the camera\n",
    "#Read the frama\n",
    "#Convert the frame to grey scale"
   ],
   "id": "30e95b76aa9a0564",
   "outputs": [],
   "execution_count": 1
  },
  {
   "metadata": {},
   "cell_type": "markdown",
   "source": "Exercise 3",
   "id": "300f6f578f1e5964"
  },
  {
   "metadata": {
    "ExecuteTime": {
     "end_time": "2025-04-06T17:53:56.343565Z",
     "start_time": "2025-04-06T17:53:41.145640Z"
    }
   },
   "cell_type": "code",
   "source": [
    "import cv2\n",
    "import numpy as np\n",
    "from skimage.util import img_as_ubyte\n",
    "import time\n",
    "\n",
    "# Parameters\n",
    "alpha = 0.95     # Background update rate\n",
    "T = 0.1          # Threshold for motion detection\n",
    "A = 0.05         # Alarm threshold (5% of image)\n",
    "font = cv2.FONT_HERSHEY_SIMPLEX\n",
    "\n",
    "# Connect to camera\n",
    "cap = cv2.VideoCapture(0)\n",
    "time.sleep(2)  # Let camera warm up\n",
    "\n",
    "# Acquire background frame\n",
    "ret, frame = cap.read()\n",
    "if not ret:\n",
    "    print(\"Failed to capture initial frame.\")\n",
    "    cap.release()\n",
    "    exit()\n",
    "\n",
    "# Convert to grayscale and float32\n",
    "background = cv2.cvtColor(frame, cv2.COLOR_BGR2GRAY).astype(np.float32)\n",
    "\n",
    "print(\"Running... Press 'q' to quit.\")\n",
    "\n",
    "while True:\n",
    "    # Step 1: Acquire new frame\n",
    "    ret, frame = cap.read()\n",
    "    if not ret:\n",
    "        break\n",
    "\n",
    "    # Step 2: Convert to grayscale and float32\n",
    "    gray = cv2.cvtColor(frame, cv2.COLOR_BGR2GRAY).astype(np.float32)\n",
    "\n",
    "    # Step 3: Compute absolute difference image\n",
    "    diff = np.abs(gray - background)\n",
    "\n",
    "    # Step 4: Threshold the difference image to create binary image\n",
    "    binary = diff > (T * 255)\n",
    "\n",
    "    # Step 5: Count foreground pixels\n",
    "    F = np.sum(binary)\n",
    "    total_pixels = binary.size\n",
    "    F_percent = F / total_pixels\n",
    "\n",
    "    # Step 6: Raise alarm if needed\n",
    "    if F_percent > A:\n",
    "        cv2.putText(frame, \"Change Detected!\", (50, 50), font, 1, (0, 0, 255), 2)\n",
    "\n",
    "    # Step 7: Show all images\n",
    "    cv2.imshow(\"Input\", frame)\n",
    "    cv2.imshow(\"Background\", background.astype(np.uint8))\n",
    "    cv2.imshow(\"Difference\", diff.astype(np.uint8))\n",
    "    cv2.imshow(\"Binary\", img_as_ubyte(binary))\n",
    "\n",
    "    # Step 8: Update background\n",
    "    background = alpha * background + (1 - alpha) * gray\n",
    "\n",
    "    # Exit loop on 'q' press\n",
    "    if cv2.waitKey(1) & 0xFF == ord('q'):\n",
    "        break\n",
    "\n",
    "# Cleanup\n",
    "cap.release()\n",
    "cv2.destroyAllWindows()\n"
   ],
   "id": "5c9ae7a939ff21f0",
   "outputs": [
    {
     "name": "stdout",
     "output_type": "stream",
     "text": [
      "Running... Press 'q' to quit.\n"
     ]
    }
   ],
   "execution_count": 2
  },
  {
   "metadata": {},
   "cell_type": "markdown",
   "source": "Exercise 4",
   "id": "2b74b925a99244de"
  },
  {
   "metadata": {
    "ExecuteTime": {
     "end_time": "2025-04-06T17:55:54.095924Z",
     "start_time": "2025-04-06T17:55:54.083415Z"
    }
   },
   "cell_type": "code",
   "source": [
    "#changes slowly\n",
    "#adapts quickly"
   ],
   "id": "fcc014bde33f646c",
   "outputs": [],
   "execution_count": 1
  },
  {
   "metadata": {},
   "cell_type": "markdown",
   "source": "Exercise 6",
   "id": "d3ed99692e1ae62c"
  },
  {
   "metadata": {
    "ExecuteTime": {
     "end_time": "2025-04-06T17:58:31.649241Z",
     "start_time": "2025-04-06T17:58:15.109881Z"
    }
   },
   "cell_type": "code",
   "source": [
    "import cv2\n",
    "import numpy as np\n",
    "from skimage.util import img_as_ubyte\n",
    "import time\n",
    "\n",
    "# Parameters\n",
    "alpha = 0.95     # Background update factor\n",
    "T = 0.1          # Threshold factor\n",
    "A = 0.05         # Alarm threshold (5% of image)\n",
    "font = cv2.FONT_HERSHEY_SIMPLEX\n",
    "\n",
    "# Connect to camera\n",
    "cap = cv2.VideoCapture(0)\n",
    "time.sleep(2)  # Allow the camera to warm up\n",
    "\n",
    "# Get the first frame and convert to grayscale float32\n",
    "ret, frame = cap.read()\n",
    "if not ret:\n",
    "    print(\"Failed to read from camera.\")\n",
    "    cap.release()\n",
    "    exit()\n",
    "\n",
    "gray_initial = cv2.cvtColor(frame, cv2.COLOR_BGR2GRAY).astype(np.float32)\n",
    "background = gray_initial.copy()\n",
    "\n",
    "print(\"Running... Press 'q' to quit.\")\n",
    "\n",
    "while True:\n",
    "    ret, frame = cap.read()\n",
    "    if not ret:\n",
    "        break\n",
    "\n",
    "    # Convert current frame to grayscale and float\n",
    "    gray = cv2.cvtColor(frame, cv2.COLOR_BGR2GRAY).astype(np.float32)\n",
    "\n",
    "    # Compute absolute difference\n",
    "    diff = np.abs(gray - background)\n",
    "\n",
    "    # Threshold the difference\n",
    "    binary = diff > (T * 255)\n",
    "\n",
    "    # Count foreground pixels\n",
    "    changed_pixels = np.sum(binary)\n",
    "    total_pixels = binary.size\n",
    "    change_fraction = changed_pixels / total_pixels\n",
    "\n",
    "    # Compute stats on the difference image\n",
    "    avg_diff = np.mean(diff)\n",
    "    min_diff = np.min(diff)\n",
    "    max_diff = np.max(diff)\n",
    "\n",
    "    # Raise an alarm if significant change\n",
    "    if change_fraction > A:\n",
    "        cv2.putText(frame, \"Change Detected!\", (10, 160), font, 0.8, (0, 0, 255), 2)\n",
    "\n",
    "    # Overlay stats on the input frame (BGR colors)\n",
    "    cv2.putText(frame, f\"Changed pixels: {changed_pixels}\", (10, 30), font, 0.6, (255, 255, 0), 2)   # Yellow\n",
    "    cv2.putText(frame, f\"Avg diff: {avg_diff:.1f}\", (10, 60), font, 0.6, (0, 255, 255), 2)           # Light blue\n",
    "    cv2.putText(frame, f\"Min diff: {min_diff:.1f}\", (10, 90), font, 0.6, (0, 255, 0), 2)             # Green\n",
    "    cv2.putText(frame, f\"Max diff: {max_diff:.1f}\", (10, 120), font, 0.6, (0, 0, 255), 2)            # Red\n",
    "\n",
    "    # Show frames\n",
    "    cv2.imshow(\"Input\", frame)\n",
    "    cv2.imshow(\"Background\", background.astype(np.uint8))\n",
    "    cv2.imshow(\"Difference\", diff.astype(np.uint8))\n",
    "    cv2.imshow(\"Binary\", img_as_ubyte(binary))\n",
    "\n",
    "    # Update background using weighted average\n",
    "    background = alpha * background + (1 - alpha) * gray\n",
    "\n",
    "    # Break on 'q'\n",
    "    if cv2.waitKey(1) & 0xFF == ord('q'):\n",
    "        break\n",
    "\n",
    "# Cleanup\n",
    "cap.release()\n",
    "cv2.destroyAllWindows()\n"
   ],
   "id": "a5dbe21b9f0ece0",
   "outputs": [
    {
     "name": "stdout",
     "output_type": "stream",
     "text": [
      "Running... Press 'q' to quit.\n"
     ]
    }
   ],
   "execution_count": 2
  }
 ],
 "metadata": {
  "kernelspec": {
   "display_name": "Python 3",
   "language": "python",
   "name": "python3"
  },
  "language_info": {
   "codemirror_mode": {
    "name": "ipython",
    "version": 2
   },
   "file_extension": ".py",
   "mimetype": "text/x-python",
   "name": "python",
   "nbconvert_exporter": "python",
   "pygments_lexer": "ipython2",
   "version": "2.7.6"
  }
 },
 "nbformat": 4,
 "nbformat_minor": 5
}
