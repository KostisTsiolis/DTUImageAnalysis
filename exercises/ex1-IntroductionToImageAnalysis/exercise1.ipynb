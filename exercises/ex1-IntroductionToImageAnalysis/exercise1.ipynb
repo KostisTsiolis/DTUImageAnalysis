{
 "cells": [
  {
   "cell_type": "code",
   "id": "initial_id",
   "metadata": {
    "collapsed": true,
    "ExecuteTime": {
     "end_time": "2025-04-05T21:09:35.777632Z",
     "start_time": "2025-04-05T21:09:35.768267Z"
    }
   },
   "source": [
    " import os\n",
    "from skimage import color, io, measure, img_as_ubyte\n",
    "from skimage.measure import profile_line\n",
    "from skimage.transform import rescale, resize\n",
    "\n",
    "import matplotlib.pyplot as plt\n",
    "import numpy as np\n",
    "%matplotlib qt\n",
    "\n",
    "\n",
    "import pydicom as dicom"
   ],
   "outputs": [],
   "execution_count": 2
  },
  {
   "metadata": {},
   "cell_type": "markdown",
   "source": "Exercise 1",
   "id": "6c9cf16a2ece5726"
  },
  {
   "metadata": {
    "ExecuteTime": {
     "end_time": "2025-04-05T20:32:07.848460Z",
     "start_time": "2025-04-05T20:32:07.828865Z"
    }
   },
   "cell_type": "code",
   "source": [
    "# Directory containing data and images\n",
    "in_dir = \"data/\"\n",
    "\n",
    "# X-ray image\n",
    "im_name = \"metacarpals.png\"\n",
    "\n",
    "# Read the image.\n",
    "# Here the directory and the image name is concatenated\n",
    "# by \"+\" to give the full path to the image.\n",
    "im_org = io.imread(in_dir + im_name)"
   ],
   "id": "6b987bba7b5596d3",
   "outputs": [],
   "execution_count": 27
  },
  {
   "metadata": {},
   "cell_type": "markdown",
   "source": "Exercise 2",
   "id": "d3fc93d0c6f9634c"
  },
  {
   "metadata": {
    "ExecuteTime": {
     "end_time": "2025-04-05T19:39:04.299086Z",
     "start_time": "2025-04-05T19:39:04.294438Z"
    }
   },
   "cell_type": "code",
   "source": "print(im_org.shape)",
   "id": "d29c609f814b2ad4",
   "outputs": [
    {
     "name": "stdout",
     "output_type": "stream",
     "text": [
      "(512, 512)\n"
     ]
    }
   ],
   "execution_count": 22
  },
  {
   "metadata": {},
   "cell_type": "markdown",
   "source": "Exercise 3",
   "id": "7c50f09239aefed9"
  },
  {
   "metadata": {
    "ExecuteTime": {
     "end_time": "2025-04-05T19:39:05.750516Z",
     "start_time": "2025-04-05T19:39:05.744501Z"
    }
   },
   "cell_type": "code",
   "source": "print(im_org.dtype)",
   "id": "50d48074e4567303",
   "outputs": [
    {
     "name": "stdout",
     "output_type": "stream",
     "text": [
      "uint8\n"
     ]
    }
   ],
   "execution_count": 23
  },
  {
   "metadata": {},
   "cell_type": "markdown",
   "source": "Exercise 4",
   "id": "d0481fb84d62a235"
  },
  {
   "metadata": {
    "ExecuteTime": {
     "end_time": "2025-04-05T20:31:45.491349Z",
     "start_time": "2025-04-05T20:31:45.429941Z"
    }
   },
   "cell_type": "code",
   "source": [
    "\n",
    "#show image\n",
    "io.imshow(im_org)\n",
    "plt.title('Metacarpal image')\n",
    "plt.axis('on')\n",
    "io.show()"
   ],
   "id": "d89aea4ad36cc98f",
   "outputs": [],
   "execution_count": 25
  },
  {
   "metadata": {},
   "cell_type": "markdown",
   "source": "Exercise 5",
   "id": "1b32cb4840306256"
  },
  {
   "metadata": {
    "ExecuteTime": {
     "end_time": "2025-04-05T20:32:13.480306Z",
     "start_time": "2025-04-05T20:32:13.385081Z"
    }
   },
   "cell_type": "code",
   "source": [
    "\n",
    "#colormap\n",
    "io.imshow(im_org, cmap=\"jet\")\n",
    "plt.title('Metacarpal image (with colormap)')\n",
    "io.show()"
   ],
   "id": "219aae34291f156c",
   "outputs": [],
   "execution_count": 28
  },
  {
   "metadata": {},
   "cell_type": "markdown",
   "source": "Exercise 6",
   "id": "3617a3c59d8f9aac"
  },
  {
   "metadata": {
    "ExecuteTime": {
     "end_time": "2025-04-05T20:31:24.308344Z",
     "start_time": "2025-04-05T20:31:23.871743Z"
    }
   },
   "cell_type": "code",
   "source": [
    "#different colomarps\n",
    "# Experiment with different colormaps. For example cool, hot, pink, copper, coolwarm, cubehelix, and terrain.\n",
    "\n",
    "colormaps = [\"cool\", \"hot\", \"pink\", \"copper\", \"coolwarm\", \"cubehelix\", \"terrain\"]\n",
    "\n",
    "for cmap in colormaps:\n",
    "    io.imshow(im_org, cmap=cmap)\n",
    "    plt.title('Metacarpal image (with colormap: {})'.format(cmap))\n",
    "    io.show()"
   ],
   "id": "ac7a2d56badf412",
   "outputs": [],
   "execution_count": 22
  },
  {
   "metadata": {},
   "cell_type": "markdown",
   "source": "Exercise 7",
   "id": "eb793e425f8c4575"
  },
  {
   "metadata": {
    "ExecuteTime": {
     "end_time": "2025-04-05T20:30:36.097289Z",
     "start_time": "2025-04-05T20:30:35.951666Z"
    }
   },
   "cell_type": "code",
   "source": [
    "#grey level scaling\n",
    "io.imshow(im_org, vmin=20, vmax=170)\n",
    "plt.title('Metacarpal image (with gray level scaling)')\n",
    "io.show()"
   ],
   "id": "31a433e3ab1682e2",
   "outputs": [],
   "execution_count": 19
  },
  {
   "metadata": {},
   "cell_type": "markdown",
   "source": "Exercise 7b",
   "id": "e2fc0648df171539"
  },
  {
   "metadata": {
    "ExecuteTime": {
     "end_time": "2025-04-05T20:30:12.640431Z",
     "start_time": "2025-04-05T20:30:12.438700Z"
    }
   },
   "cell_type": "code",
   "source": [
    "# Automatically scale based on min and max pixel values\n",
    "io.imshow(im_org, vmin=im_org.min(), vmax=im_org.max())\n",
    "plt.title('Metacarpal image (auto gray level scaling)')\n",
    "io.show()"
   ],
   "id": "173b99a476bc0ec5",
   "outputs": [],
   "execution_count": 17
  },
  {
   "metadata": {},
   "cell_type": "markdown",
   "source": "Exercise 8",
   "id": "820d272b56452640"
  },
  {
   "metadata": {
    "ExecuteTime": {
     "end_time": "2025-04-05T20:30:17.103694Z",
     "start_time": "2025-04-05T20:30:16.268128Z"
    }
   },
   "cell_type": "code",
   "source": [
    "#histogram\n",
    "plt.hist(im_org.ravel(), bins=256)\n",
    "plt.title('Image histogram')\n",
    "io.show()\n",
    "\n",
    "#bin values\n",
    "h = plt.hist(im_org.ravel(), bins=256)\n",
    "\n",
    "#value of given bin\n",
    "bin_no = 100\n",
    "count = h[0][bin_no]\n",
    "print(f\"There are {count} pixel values in bin {bin_no}\")\n",
    "\n",
    "#bin edges\n",
    "bin_left = h[1][bin_no]\n",
    "bin_right = h[1][bin_no + 1]\n",
    "print(f\"Bin edges: {bin_left} to {bin_right}\")"
   ],
   "id": "7c27de77d19ae309",
   "outputs": [
    {
     "name": "stdout",
     "output_type": "stream",
     "text": [
      "There are 991.0 pixel values in bin 100\n",
      "Bin edges: 99.609375 to 100.60546875\n"
     ]
    }
   ],
   "execution_count": 18
  },
  {
   "metadata": {},
   "cell_type": "markdown",
   "source": "Exercise 8b",
   "id": "ca35c2965f873abb"
  },
  {
   "metadata": {
    "ExecuteTime": {
     "end_time": "2025-04-05T20:30:00.415345Z",
     "start_time": "2025-04-05T20:29:59.931335Z"
    }
   },
   "cell_type": "code",
   "source": [
    "#alternative way for histogram\n",
    "y, x, _ = plt.hist(im_org.ravel(), bins=256)"
   ],
   "id": "6872c60721c37898",
   "outputs": [],
   "execution_count": 15
  },
  {
   "metadata": {},
   "cell_type": "markdown",
   "source": "Exercise 9",
   "id": "a87541f73ba0100"
  },
  {
   "metadata": {
    "ExecuteTime": {
     "end_time": "2025-04-05T20:29:52.889712Z",
     "start_time": "2025-04-05T20:29:52.423903Z"
    }
   },
   "cell_type": "code",
   "source": [
    "#The most common intensity range\n",
    "# Flatten image and compute histogram\n",
    "hist, bin_edges = np.histogram(im_org.ravel(), bins=256)\n",
    "\n",
    "# Find the bin with the most pixels\n",
    "max_bin_index = np.argmax(hist)\n",
    "most_common_range = (bin_edges[max_bin_index], bin_edges[max_bin_index + 1])\n",
    "\n",
    "# Display histogram\n",
    "plt.hist(im_org.ravel(), bins=256)\n",
    "plt.title('Image histogram')\n",
    "io.show()\n",
    "\n",
    "# Print the most common intensity range\n",
    "print(f\"The most common intensity range is: {most_common_range}\")"
   ],
   "id": "3c91fedb62c6ebee",
   "outputs": [
    {
     "name": "stdout",
     "output_type": "stream",
     "text": [
      "The most common intensity range is: (254.00390625, 255.0)\n"
     ]
    }
   ],
   "execution_count": 14
  },
  {
   "metadata": {},
   "cell_type": "markdown",
   "source": "Exercise 10",
   "id": "5d1703e3b1b339c8"
  },
  {
   "metadata": {
    "ExecuteTime": {
     "end_time": "2025-04-05T20:29:46.640663Z",
     "start_time": "2025-04-05T20:29:46.634690Z"
    }
   },
   "cell_type": "code",
   "source": [
    "#value of pixel\n",
    "r = 110\n",
    "c = 90\n",
    "im_val = im_org[r, c]\n",
    "print(f\"The pixel value at (r,c) = ({r}, {c}) is: {im_val}\")"
   ],
   "id": "3530e224a450043a",
   "outputs": [
    {
     "name": "stdout",
     "output_type": "stream",
     "text": [
      "The pixel value at (r,c) = (110, 90) is: 120\n"
     ]
    }
   ],
   "execution_count": 13
  },
  {
   "metadata": {},
   "cell_type": "markdown",
   "source": "Exercise 11",
   "id": "7cc0cc50c4e57af3"
  },
  {
   "metadata": {
    "ExecuteTime": {
     "end_time": "2025-04-05T20:29:40.904608Z",
     "start_time": "2025-04-05T20:29:40.787816Z"
    }
   },
   "cell_type": "code",
   "source": [
    "#modifies the image im_org by setting the first 30 rows of the image to black (intensity value 0).\n",
    "im_org[:30] = 0\n",
    "io.imshow(im_org)\n",
    "io.show()"
   ],
   "id": "c7fe92ee84fa6e6a",
   "outputs": [],
   "execution_count": 12
  },
  {
   "metadata": {},
   "cell_type": "markdown",
   "source": "Exercise 12",
   "id": "7e2c385c03b3d243"
  },
  {
   "metadata": {
    "ExecuteTime": {
     "end_time": "2025-04-05T20:29:30.586867Z",
     "start_time": "2025-04-05T20:29:30.280253Z"
    }
   },
   "cell_type": "code",
   "source": [
    "#Mask: binary image tha values are 0/1\n",
    "mask = im_org > 150\n",
    "io.imshow(mask)\n",
    "io.show()\n",
    "\n",
    "#The bones (fingers, metacarpals) are shown in white, meaning their pixel values are 1.\n",
    "\n",
    "#The background and areas not part of the bones are black, meaning their pixel values are 0."
   ],
   "id": "671794b9df845eac",
   "outputs": [],
   "execution_count": 10
  },
  {
   "metadata": {},
   "cell_type": "markdown",
   "source": "Exercise 13",
   "id": "1bf4ad11f55e60a9"
  },
  {
   "metadata": {
    "ExecuteTime": {
     "end_time": "2025-04-05T20:29:34.314302Z",
     "start_time": "2025-04-05T20:29:34.024907Z"
    }
   },
   "cell_type": "code",
   "source": [
    "#Set all pixels in im_org where mask is True to the value 255, which corresponds to white in an 8-bit grayscale image.\n",
    "im_org[mask] = 255\n",
    "io.imshow(im_org)\n",
    "io.show()"
   ],
   "id": "fe59a9c2992a68ca",
   "outputs": [],
   "execution_count": 11
  },
  {
   "metadata": {},
   "cell_type": "markdown",
   "source": "",
   "id": "696b78c5ddea8053"
  },
  {
   "metadata": {},
   "cell_type": "markdown",
   "source": "Exercise 14",
   "id": "7056a46ee9dcf9bb"
  },
  {
   "metadata": {
    "ExecuteTime": {
     "end_time": "2025-04-05T20:29:21.352313Z",
     "start_time": "2025-04-05T20:29:21.291745Z"
    }
   },
   "cell_type": "code",
   "source": [
    "\n",
    "im = io.imread(in_dir + 'ardeche.jpg')\n",
    "print(im.shape)\n",
    "print(im.dtype)\n",
    "plt.imshow(im)\n",
    "plt.show()"
   ],
   "id": "b3f8d9ed6cc17e4b",
   "outputs": [
    {
     "name": "stdout",
     "output_type": "stream",
     "text": [
      "(600, 800, 3)\n",
      "uint8\n"
     ]
    }
   ],
   "execution_count": 9
  },
  {
   "metadata": {},
   "cell_type": "markdown",
   "source": "Exercise 15",
   "id": "73ae7994863748de"
  },
  {
   "metadata": {
    "ExecuteTime": {
     "end_time": "2025-04-05T19:35:54.058558Z",
     "start_time": "2025-04-05T19:35:54.050573Z"
    }
   },
   "cell_type": "code",
   "source": [
    "r = 110\n",
    "c = 90\n",
    "print(f\"The pixel value at (r,c) = ({r}, {c}) is: {im[r, c, :]}\")"
   ],
   "id": "b0cd184ef59b9363",
   "outputs": [
    {
     "name": "stdout",
     "output_type": "stream",
     "text": [
      "The pixel value at (r,c) = (110, 90) is: [119 178 238]\n"
     ]
    }
   ],
   "execution_count": 11
  },
  {
   "metadata": {},
   "cell_type": "markdown",
   "source": "Exercise 16",
   "id": "340555383f745c2a"
  },
  {
   "metadata": {
    "ExecuteTime": {
     "end_time": "2025-04-05T20:28:54.104966Z",
     "start_time": "2025-04-05T20:28:53.949431Z"
    }
   },
   "cell_type": "code",
   "source": [
    "\n",
    "# Read image\n",
    "im = io.imread(\"data/ardeche.jpg\").astype(np.float32)\n",
    "\n",
    "# Get halfway point\n",
    "r_2 = im.shape[0] // 2\n",
    "\n",
    "# Boost green channel in upper half  zeroing red/blue\n",
    "im[:r_2, :, [0,2]] = 0\n",
    "\n",
    "# Clip to valid range [0, 255] and convert back to uint8\n",
    "im = np.clip(im, 0, 255).astype(np.uint8)\n",
    "\n",
    "# Show the image\n",
    "plt.imshow(im)\n",
    "plt.title(\"Upper Half: Boosted Green with Detail Preserved\")\n",
    "\n",
    "plt.show()"
   ],
   "id": "d88135ac3135f687",
   "outputs": [],
   "execution_count": 6
  },
  {
   "metadata": {},
   "cell_type": "markdown",
   "source": "Exercise 17",
   "id": "8d7eb95deade2340"
  },
  {
   "metadata": {
    "ExecuteTime": {
     "end_time": "2025-04-05T20:28:30.058539Z",
     "start_time": "2025-04-05T20:28:29.936658Z"
    }
   },
   "cell_type": "code",
   "source": [
    "\n",
    "\n",
    "photo = io.imread(\"data/myimage.jpg\")\n",
    "plt.imshow(photo)\n",
    "plt.title(\"MyImage\")\n",
    "\n",
    "plt.show()\n",
    "print(photo.shape)"
   ],
   "id": "d61f507e350f414b",
   "outputs": [
    {
     "name": "stdout",
     "output_type": "stream",
     "text": [
      "(1152, 2048, 3)\n"
     ]
    }
   ],
   "execution_count": 4
  },
  {
   "metadata": {},
   "cell_type": "markdown",
   "source": "Exercise 17b",
   "id": "72ba9f1c161b9275"
  },
  {
   "metadata": {
    "ExecuteTime": {
     "end_time": "2025-04-05T20:32:27.644871Z",
     "start_time": "2025-04-05T20:32:27.262746Z"
    }
   },
   "cell_type": "code",
   "source": [
    "\n",
    "image_rescaled = rescale(photo, 0.25, anti_aliasing=True,\n",
    "                         channel_axis=2)\n",
    "plt.imshow(image_rescaled)\n",
    "plt.title(\"MyImage\")\n",
    "\n",
    "plt.show()\n",
    "print(photo.shape)"
   ],
   "id": "bff79d8c33dfa8e4",
   "outputs": [
    {
     "name": "stdout",
     "output_type": "stream",
     "text": [
      "(1152, 2048, 3)\n"
     ]
    }
   ],
   "execution_count": 29
  },
  {
   "metadata": {},
   "cell_type": "markdown",
   "source": "Exercise 18",
   "id": "b83855e1ecf72034"
  },
  {
   "metadata": {
    "ExecuteTime": {
     "end_time": "2025-04-05T20:33:33.572247Z",
     "start_time": "2025-04-05T20:33:33.561081Z"
    }
   },
   "cell_type": "code",
   "source": [
    "print(image_rescaled.dtype)\n",
    "print(image_rescaled.dtype)\n",
    "print(image_rescaled.max())\n",
    "print(image_rescaled.min())"
   ],
   "id": "529b54f846ab0927",
   "outputs": [
    {
     "name": "stdout",
     "output_type": "stream",
     "text": [
      "float64\n",
      "float64\n",
      "0.999413237307622\n",
      "0.0007678230556051274\n"
     ]
    }
   ],
   "execution_count": 30
  },
  {
   "metadata": {},
   "cell_type": "markdown",
   "source": "Exercise 19",
   "id": "7af9abc7d7c6898a"
  },
  {
   "metadata": {
    "ExecuteTime": {
     "end_time": "2025-04-05T20:35:51.977630Z",
     "start_time": "2025-04-05T20:35:51.672604Z"
    }
   },
   "cell_type": "code",
   "source": [
    "image_resized = resize(photo, (photo.shape[0] // 4, photo.shape[1] // 6), anti_aliasing=True)\n",
    "plt.imshow(image_resized)\n",
    "plt.show()"
   ],
   "id": "fcef20dc443bc1d9",
   "outputs": [],
   "execution_count": 32
  },
  {
   "metadata": {},
   "cell_type": "markdown",
   "source": "Exercise 19b",
   "id": "588fae19d02d0f20"
  },
  {
   "metadata": {
    "ExecuteTime": {
     "end_time": "2025-04-05T20:49:25.939600Z",
     "start_time": "2025-04-05T20:49:25.683938Z"
    }
   },
   "cell_type": "code",
   "source": [
    "# Load your image\n",
    "photo = io.imread(\"data/myimage.jpg\")\n",
    "\n",
    "# Optional: Convert to grayscale (histogram will be 1D)\n",
    "gray = color.rgb2gray(photo)\n",
    "\n",
    "# Optional: Resize the image\n",
    "image_resized = resize(gray, (gray.shape[0] // 4, gray.shape[1] // 6), anti_aliasing=True)\n",
    "\n",
    "# Compute histogram\n",
    "# Note: values from rgb2gray() are in [0, 1], so we scale bins accordingly\n",
    "hist, bin_edges = np.histogram(image_resized.ravel(), bins=256, range=(0, 1))\n",
    "\n",
    "# Plot the histogram\n",
    "plt.figure()\n",
    "plt.plot(bin_edges[:-1], hist)\n",
    "plt.title(\"Histogram of Resized Image (Grayscale)\")\n",
    "plt.xlabel(\"Pixel intensity\")\n",
    "plt.ylabel(\"Frequency\")\n",
    "plt.grid(True)\n",
    "plt.show()"
   ],
   "id": "1e5d5ffe3ad3f375",
   "outputs": [],
   "execution_count": 33
  },
  {
   "metadata": {},
   "cell_type": "markdown",
   "source": "Exercise 20",
   "id": "fdbe21567c45116b"
  },
  {
   "metadata": {
    "ExecuteTime": {
     "end_time": "2025-04-05T20:54:36.823392Z",
     "start_time": "2025-04-05T20:54:36.444812Z"
    }
   },
   "cell_type": "code",
   "source": [
    "im_gray = color.rgb2gray(photo) # Convert it to gray scale\n",
    "im_byte = img_as_ubyte(im_gray)\n",
    "\n",
    "plt.hist(im_byte.ravel(), bins=256)"
   ],
   "id": "893374dc6732f699",
   "outputs": [
    {
     "data": {
      "text/plain": [
       "(array([2.6000e+01, 7.8000e+01, 8.3000e+01, 1.6700e+02, 2.2900e+02,\n",
       "        3.5900e+02, 7.2000e+02, 1.8000e+03, 4.7420e+03, 1.0400e+04,\n",
       "        1.2350e+04, 1.2501e+04, 1.2885e+04, 1.1662e+04, 1.1787e+04,\n",
       "        1.2810e+04, 1.3982e+04, 1.4467e+04, 1.4838e+04, 1.5745e+04,\n",
       "        1.6481e+04, 1.7607e+04, 1.8827e+04, 2.0191e+04, 2.1514e+04,\n",
       "        2.6128e+04, 3.1408e+04, 3.2897e+04, 3.5403e+04, 3.4534e+04,\n",
       "        3.3641e+04, 3.7093e+04, 3.7288e+04, 3.7523e+04, 3.7640e+04,\n",
       "        3.6878e+04, 3.5229e+04, 3.2347e+04, 2.8603e+04, 2.4868e+04,\n",
       "        2.2272e+04, 1.9668e+04, 1.7734e+04, 1.6313e+04, 1.5280e+04,\n",
       "        1.4853e+04, 1.4316e+04, 1.3768e+04, 1.3632e+04, 1.3025e+04,\n",
       "        1.2919e+04, 1.2401e+04, 1.2253e+04, 1.1692e+04, 1.1258e+04,\n",
       "        1.0910e+04, 1.0458e+04, 9.8950e+03, 9.5270e+03, 9.0080e+03,\n",
       "        8.7200e+03, 8.4450e+03, 8.2490e+03, 8.1550e+03, 8.1100e+03,\n",
       "        8.0290e+03, 7.8280e+03, 7.9980e+03, 8.2140e+03, 8.2220e+03,\n",
       "        8.3940e+03, 8.4110e+03, 8.4430e+03, 8.2930e+03, 8.4470e+03,\n",
       "        8.0320e+03, 7.8210e+03, 7.4430e+03, 7.3670e+03, 7.0220e+03,\n",
       "        6.9590e+03, 6.9500e+03, 7.2680e+03, 7.9340e+03, 8.4460e+03,\n",
       "        9.1650e+03, 1.0457e+04, 1.1217e+04, 1.1499e+04, 1.1449e+04,\n",
       "        1.1199e+04, 1.1331e+04, 1.1630e+04, 1.1984e+04, 1.2212e+04,\n",
       "        1.2031e+04, 1.1353e+04, 1.0547e+04, 9.2710e+03, 8.5250e+03,\n",
       "        8.1290e+03, 7.8820e+03, 7.6750e+03, 7.7030e+03, 7.4580e+03,\n",
       "        7.7550e+03, 7.5600e+03, 7.9830e+03, 7.8610e+03, 7.8250e+03,\n",
       "        7.9010e+03, 8.1090e+03, 8.1510e+03, 8.3340e+03, 8.6760e+03,\n",
       "        8.7720e+03, 9.1300e+03, 9.1620e+03, 9.4300e+03, 9.7060e+03,\n",
       "        1.0069e+04, 1.0254e+04, 1.0524e+04, 1.1146e+04, 1.1440e+04,\n",
       "        1.1793e+04, 1.1884e+04, 1.2233e+04, 1.2951e+04, 1.3658e+04,\n",
       "        1.3977e+04, 1.4285e+04, 1.4560e+04, 1.4654e+04, 1.4673e+04,\n",
       "        1.5527e+04, 1.5478e+04, 1.5345e+04, 1.4862e+04, 1.4565e+04,\n",
       "        1.4335e+04, 1.4167e+04, 1.3892e+04, 1.3402e+04, 1.2751e+04,\n",
       "        1.1724e+04, 1.0934e+04, 1.0104e+04, 9.8820e+03, 9.9370e+03,\n",
       "        9.6560e+03, 9.7850e+03, 9.7770e+03, 9.0980e+03, 8.5820e+03,\n",
       "        8.1520e+03, 8.1340e+03, 8.1480e+03, 7.7740e+03, 7.3030e+03,\n",
       "        7.0480e+03, 6.6990e+03, 6.6750e+03, 6.4790e+03, 6.4510e+03,\n",
       "        6.2350e+03, 6.1820e+03, 6.3210e+03, 6.0220e+03, 6.1250e+03,\n",
       "        5.9500e+03, 5.8980e+03, 5.8370e+03, 5.6730e+03, 5.4630e+03,\n",
       "        5.3070e+03, 5.1780e+03, 5.1120e+03, 5.1010e+03, 4.8880e+03,\n",
       "        4.9360e+03, 4.8800e+03, 5.0100e+03, 4.8210e+03, 4.9920e+03,\n",
       "        4.9540e+03, 5.0670e+03, 4.9520e+03, 5.0020e+03, 4.9260e+03,\n",
       "        5.0000e+03, 5.0700e+03, 5.1610e+03, 4.9700e+03, 5.0810e+03,\n",
       "        5.0020e+03, 4.9700e+03, 5.0880e+03, 4.9310e+03, 5.0260e+03,\n",
       "        5.0650e+03, 4.8800e+03, 4.8800e+03, 4.7080e+03, 4.6460e+03,\n",
       "        4.7100e+03, 4.5550e+03, 4.3670e+03, 3.9960e+03, 3.9590e+03,\n",
       "        3.8640e+03, 3.6100e+03, 3.5870e+03, 3.5700e+03, 3.4550e+03,\n",
       "        3.3350e+03, 3.2320e+03, 3.0380e+03, 2.9440e+03, 2.7360e+03,\n",
       "        2.6300e+03, 2.3580e+03, 2.3960e+03, 2.2030e+03, 2.2180e+03,\n",
       "        2.0370e+03, 1.9100e+03, 1.7730e+03, 1.6600e+03, 1.4530e+03,\n",
       "        1.3580e+03, 1.3140e+03, 1.1550e+03, 1.0990e+03, 9.8400e+02,\n",
       "        8.6400e+02, 8.6700e+02, 8.7100e+02, 7.4700e+02, 7.6800e+02,\n",
       "        7.4100e+02, 6.6600e+02, 6.0300e+02, 5.8900e+02, 5.9400e+02,\n",
       "        5.6900e+02, 5.5300e+02, 5.4700e+02, 5.9300e+02, 5.7700e+02,\n",
       "        6.1700e+02, 7.4400e+02, 8.0300e+02, 9.5500e+02, 1.4970e+03,\n",
       "        1.7630e+03]),\n",
       " array([  0.        ,   0.99609375,   1.9921875 ,   2.98828125,\n",
       "          3.984375  ,   4.98046875,   5.9765625 ,   6.97265625,\n",
       "          7.96875   ,   8.96484375,   9.9609375 ,  10.95703125,\n",
       "         11.953125  ,  12.94921875,  13.9453125 ,  14.94140625,\n",
       "         15.9375    ,  16.93359375,  17.9296875 ,  18.92578125,\n",
       "         19.921875  ,  20.91796875,  21.9140625 ,  22.91015625,\n",
       "         23.90625   ,  24.90234375,  25.8984375 ,  26.89453125,\n",
       "         27.890625  ,  28.88671875,  29.8828125 ,  30.87890625,\n",
       "         31.875     ,  32.87109375,  33.8671875 ,  34.86328125,\n",
       "         35.859375  ,  36.85546875,  37.8515625 ,  38.84765625,\n",
       "         39.84375   ,  40.83984375,  41.8359375 ,  42.83203125,\n",
       "         43.828125  ,  44.82421875,  45.8203125 ,  46.81640625,\n",
       "         47.8125    ,  48.80859375,  49.8046875 ,  50.80078125,\n",
       "         51.796875  ,  52.79296875,  53.7890625 ,  54.78515625,\n",
       "         55.78125   ,  56.77734375,  57.7734375 ,  58.76953125,\n",
       "         59.765625  ,  60.76171875,  61.7578125 ,  62.75390625,\n",
       "         63.75      ,  64.74609375,  65.7421875 ,  66.73828125,\n",
       "         67.734375  ,  68.73046875,  69.7265625 ,  70.72265625,\n",
       "         71.71875   ,  72.71484375,  73.7109375 ,  74.70703125,\n",
       "         75.703125  ,  76.69921875,  77.6953125 ,  78.69140625,\n",
       "         79.6875    ,  80.68359375,  81.6796875 ,  82.67578125,\n",
       "         83.671875  ,  84.66796875,  85.6640625 ,  86.66015625,\n",
       "         87.65625   ,  88.65234375,  89.6484375 ,  90.64453125,\n",
       "         91.640625  ,  92.63671875,  93.6328125 ,  94.62890625,\n",
       "         95.625     ,  96.62109375,  97.6171875 ,  98.61328125,\n",
       "         99.609375  , 100.60546875, 101.6015625 , 102.59765625,\n",
       "        103.59375   , 104.58984375, 105.5859375 , 106.58203125,\n",
       "        107.578125  , 108.57421875, 109.5703125 , 110.56640625,\n",
       "        111.5625    , 112.55859375, 113.5546875 , 114.55078125,\n",
       "        115.546875  , 116.54296875, 117.5390625 , 118.53515625,\n",
       "        119.53125   , 120.52734375, 121.5234375 , 122.51953125,\n",
       "        123.515625  , 124.51171875, 125.5078125 , 126.50390625,\n",
       "        127.5       , 128.49609375, 129.4921875 , 130.48828125,\n",
       "        131.484375  , 132.48046875, 133.4765625 , 134.47265625,\n",
       "        135.46875   , 136.46484375, 137.4609375 , 138.45703125,\n",
       "        139.453125  , 140.44921875, 141.4453125 , 142.44140625,\n",
       "        143.4375    , 144.43359375, 145.4296875 , 146.42578125,\n",
       "        147.421875  , 148.41796875, 149.4140625 , 150.41015625,\n",
       "        151.40625   , 152.40234375, 153.3984375 , 154.39453125,\n",
       "        155.390625  , 156.38671875, 157.3828125 , 158.37890625,\n",
       "        159.375     , 160.37109375, 161.3671875 , 162.36328125,\n",
       "        163.359375  , 164.35546875, 165.3515625 , 166.34765625,\n",
       "        167.34375   , 168.33984375, 169.3359375 , 170.33203125,\n",
       "        171.328125  , 172.32421875, 173.3203125 , 174.31640625,\n",
       "        175.3125    , 176.30859375, 177.3046875 , 178.30078125,\n",
       "        179.296875  , 180.29296875, 181.2890625 , 182.28515625,\n",
       "        183.28125   , 184.27734375, 185.2734375 , 186.26953125,\n",
       "        187.265625  , 188.26171875, 189.2578125 , 190.25390625,\n",
       "        191.25      , 192.24609375, 193.2421875 , 194.23828125,\n",
       "        195.234375  , 196.23046875, 197.2265625 , 198.22265625,\n",
       "        199.21875   , 200.21484375, 201.2109375 , 202.20703125,\n",
       "        203.203125  , 204.19921875, 205.1953125 , 206.19140625,\n",
       "        207.1875    , 208.18359375, 209.1796875 , 210.17578125,\n",
       "        211.171875  , 212.16796875, 213.1640625 , 214.16015625,\n",
       "        215.15625   , 216.15234375, 217.1484375 , 218.14453125,\n",
       "        219.140625  , 220.13671875, 221.1328125 , 222.12890625,\n",
       "        223.125     , 224.12109375, 225.1171875 , 226.11328125,\n",
       "        227.109375  , 228.10546875, 229.1015625 , 230.09765625,\n",
       "        231.09375   , 232.08984375, 233.0859375 , 234.08203125,\n",
       "        235.078125  , 236.07421875, 237.0703125 , 238.06640625,\n",
       "        239.0625    , 240.05859375, 241.0546875 , 242.05078125,\n",
       "        243.046875  , 244.04296875, 245.0390625 , 246.03515625,\n",
       "        247.03125   , 248.02734375, 249.0234375 , 250.01953125,\n",
       "        251.015625  , 252.01171875, 253.0078125 , 254.00390625,\n",
       "        255.        ]),\n",
       " <BarContainer object of 256 artists>)"
      ]
     },
     "execution_count": 40,
     "metadata": {},
     "output_type": "execute_result"
    }
   ],
   "execution_count": 40
  },
  {
   "metadata": {},
   "cell_type": "markdown",
   "source": "Exercise 21",
   "id": "958978ee6d974124"
  },
  {
   "metadata": {
    "ExecuteTime": {
     "end_time": "2025-04-05T20:55:24.901168Z",
     "start_time": "2025-04-05T20:55:24.652706Z"
    }
   },
   "cell_type": "code",
   "source": [
    "plt.hist(im_byte.ravel(), bins=256)\n",
    "plt.title('Image histogram')\n",
    "io.show()"
   ],
   "id": "1e65b7909609b1bb",
   "outputs": [],
   "execution_count": 42
  },
  {
   "metadata": {},
   "cell_type": "markdown",
   "source": "Exercise 22",
   "id": "95ab8652a7032efa"
  },
  {
   "metadata": {
    "ExecuteTime": {
     "end_time": "2025-04-05T20:57:30.226419Z",
     "start_time": "2025-04-05T20:57:29.852181Z"
    }
   },
   "cell_type": "code",
   "source": [
    "dtu = io.imread(\"data/DTUSign1.jpg\")\n",
    "\n",
    "# Step 2: Show the original image\n",
    "plt.imshow(dtu)\n",
    "plt.title(\"DTU Sign - Original Image\")\n",
    "\n",
    "plt.show()\n",
    "\n"
   ],
   "id": "b994712a7cf13923",
   "outputs": [],
   "execution_count": 44
  },
  {
   "metadata": {},
   "cell_type": "markdown",
   "source": "Exercise 23",
   "id": "179b1bdde21ec0c4"
  },
  {
   "metadata": {
    "ExecuteTime": {
     "end_time": "2025-04-05T20:59:15.523113Z",
     "start_time": "2025-04-05T20:59:15.349934Z"
    }
   },
   "cell_type": "code",
   "source": [
    "fig, ax = plt.subplots(nrows = 1, ncols = 3, figsize = (15,10))\n",
    "ax[0].imshow(dtu[:,:,0], cmap = 'gray')\n",
    "ax[0].set_title('Red channel')\n",
    "ax[1].imshow(dtu[:,:,1], cmap = 'gray')\n",
    "ax[1].set_title('Green channel')\n",
    "ax[2].imshow(dtu[:,:,2], cmap = 'gray')\n",
    "ax[2].set_title('Blue channel')\n",
    "plt.show()"
   ],
   "id": "d8ea65bd18935cf5",
   "outputs": [],
   "execution_count": 48
  },
  {
   "metadata": {},
   "cell_type": "markdown",
   "source": "Exercise 24",
   "id": "a39d11a2c22739c0"
  },
  {
   "metadata": {
    "ExecuteTime": {
     "end_time": "2025-04-05T21:01:34.476862Z",
     "start_time": "2025-04-05T21:01:34.138669Z"
    }
   },
   "cell_type": "code",
   "source": [
    "im_org = io.imread(\"data/DTUSign1.jpg\")\n",
    "\n",
    "\n",
    "\n",
    "# Step 3: Create a black rectangle in a region by zeroing all RGB channels\n",
    "# (example: rows 500 to 1000, columns 800 to 1500)\n",
    "im_org[500:1000, 800:1500, :] = 0\n",
    "\n",
    "# Step 4: Show the modified image\n",
    "plt.imshow(im_org)\n",
    "plt.title(\"DTU Sign with Black Rectangle\")\n",
    "\n",
    "plt.show()"
   ],
   "id": "eddf4c80ee5067c3",
   "outputs": [],
   "execution_count": 50
  },
  {
   "metadata": {},
   "cell_type": "markdown",
   "source": "Exercise 25",
   "id": "b813a2b2fa8fd7ce"
  },
  {
   "metadata": {
    "ExecuteTime": {
     "end_time": "2025-04-05T21:02:33.350533Z",
     "start_time": "2025-04-05T21:02:27.498699Z"
    }
   },
   "cell_type": "code",
   "source": [
    "plt.imshow(im_org)\n",
    "plt.title(\"Modified DTU Sign Image\")\n",
    "\n",
    "plt.show()\n",
    "\n",
    "# Step 2: Save as JPG\n",
    "io.imsave(\"DTUSign1-marked.jpg\", im_org)\n",
    "\n",
    "# Step 3: Save as PNG\n",
    "io.imsave(\"DTUSign1-marked.png\", im_org)\n",
    "\n",
    "print(\"Images saved successfully.\")"
   ],
   "id": "f41232bf611dc624",
   "outputs": [
    {
     "name": "stdout",
     "output_type": "stream",
     "text": [
      "Images saved successfully.\n"
     ]
    }
   ],
   "execution_count": 51
  },
  {
   "metadata": {},
   "cell_type": "markdown",
   "source": "Exercise 26",
   "id": "ced2f86939254c77"
  },
  {
   "metadata": {
    "ExecuteTime": {
     "end_time": "2025-04-05T21:05:24.735730Z",
     "start_time": "2025-04-05T21:05:23.487386Z"
    }
   },
   "cell_type": "code",
   "source": [
    "im = io.imread(\"data/DTUSign1.jpg\")\n",
    "top = 480\n",
    "bottom = 980\n",
    "left = 780\n",
    "right = 1480\n",
    "\n",
    "# Draw top and bottom edges\n",
    "im[top, left:right, :] = [0, 0, 255]\n",
    "im[bottom, left:right, :] = [0, 0, 255]\n",
    "\n",
    "# Draw left and right edges\n",
    "im[top:bottom, left, :] = [0, 0, 255]\n",
    "im[top:bottom, right, :] = [0, 0, 255]\n",
    "\n",
    "# Show result\n",
    "plt.imshow(im)\n",
    "plt.title(\"DTU Sign with Blue Rectangle\")\n",
    "\n",
    "plt.show()\n",
    "\n",
    "# Save the image\n",
    "io.imsave(\"DTUSign1-marked-blue.png\", im)"
   ],
   "id": "d37685118510095a",
   "outputs": [],
   "execution_count": 54
  },
  {
   "metadata": {},
   "cell_type": "markdown",
   "source": "Exercise 27",
   "id": "78fb699b676a14b7"
  },
  {
   "metadata": {
    "ExecuteTime": {
     "end_time": "2025-04-05T21:10:28.012454Z",
     "start_time": "2025-04-05T21:10:27.975453Z"
    }
   },
   "cell_type": "code",
   "source": [
    "m_gray = io.imread(\"data/metacarpals.png\")\n",
    "\n",
    "# Step 2: Ensure it's in 8-bit grayscale\n",
    "im_gray = img_as_ubyte(m_gray)\n",
    "\n",
    "# Step 3: Create a mask for the bone areas (bright regions)\n",
    "# Adjust the threshold if needed — bones are bright, so threshold high\n",
    "bone_mask = im_gray > 150\n",
    "\n",
    "# Step 4: Convert grayscale to RGB\n",
    "im_rgb = color.gray2rgb(im_gray)\n",
    "\n",
    "# Step 5: Color the bone regions blue ([0, 0, 255])\n",
    "im_rgb[bone_mask] = [0, 0, 255]\n",
    "\n",
    "# Step 6: Show the result\n",
    "plt.imshow(im_rgb)\n",
    "plt.title(\"Metacarpals with Bones Colored Blue\")\n",
    "\n",
    "plt.show()"
   ],
   "id": "b3e9febe6d298c0a",
   "outputs": [],
   "execution_count": 5
  },
  {
   "metadata": {},
   "cell_type": "markdown",
   "source": "Exercise 28",
   "id": "fdf567f6fc523e1f"
  },
  {
   "metadata": {
    "ExecuteTime": {
     "end_time": "2025-04-05T21:12:07.108128Z",
     "start_time": "2025-04-05T21:12:07.054045Z"
    }
   },
   "cell_type": "code",
   "source": [
    "xray = io.imread(\"data/metacarpals.png\")\n",
    "p = profile_line(xray, (342, 77), (320, 160))\n",
    "plt.plot(p)\n",
    "plt.ylabel('Intensity')\n",
    "plt.xlabel('Distance along line')\n",
    "plt.show()"
   ],
   "id": "9ef4c0369fe300d5",
   "outputs": [],
   "execution_count": 7
  },
  {
   "metadata": {},
   "cell_type": "markdown",
   "source": "Exercise 28b",
   "id": "80bace559fdb7097"
  },
  {
   "metadata": {
    "ExecuteTime": {
     "end_time": "2025-04-05T21:13:22.789467Z",
     "start_time": "2025-04-05T21:13:22.482964Z"
    }
   },
   "cell_type": "code",
   "source": [
    "in_dir = \"data/\"\n",
    "im_name = \"road.png\"\n",
    "im_org = io.imread(in_dir + im_name)\n",
    "im_gray = color.rgb2gray(im_org)\n",
    "ll = 200\n",
    "im_crop = im_gray[40:40 + ll, 150:150 + ll]\n",
    "xx, yy = np.mgrid[0:im_crop.shape[0], 0:im_crop.shape[1]]\n",
    "fig, ax = plt.subplots(subplot_kw={\"projection\": \"3d\"})\n",
    "surf = ax.plot_surface(xx, yy, im_crop, rstride=1, cstride=1, cmap=plt.cm.jet,\n",
    "                       linewidth=0)\n",
    "fig.colorbar(surf, shrink=0.5, aspect=5)\n",
    "plt.show()"
   ],
   "id": "52fd8ca85e527039",
   "outputs": [],
   "execution_count": 8
  },
  {
   "metadata": {},
   "cell_type": "markdown",
   "source": "Exercise 29",
   "id": "1eabe79f5c313751"
  },
  {
   "metadata": {
    "ExecuteTime": {
     "end_time": "2025-04-05T21:14:17.762965Z",
     "start_time": "2025-04-05T21:14:17.725883Z"
    }
   },
   "cell_type": "code",
   "source": [
    "in_dir = \"data/\"\n",
    "im_name = \"1-442.dcm\"\n",
    "ds = dicom.dcmread(in_dir + im_name)\n",
    "print(ds)"
   ],
   "id": "b6024ad6ba48649c",
   "outputs": [
    {
     "name": "stdout",
     "output_type": "stream",
     "text": [
      "Dataset.file_meta -------------------------------\n",
      "(0002, 0000) File Meta Information Group Length  UL: 174\n",
      "(0002, 0001) File Meta Information Version       OB: b'\\x00\\x01'\n",
      "(0002, 0002) Media Storage SOP Class UID         UI: CT Image Storage\n",
      "(0002, 0003) Media Storage SOP Instance UID      UI: 61.7.148187188172271071649499494197343400503\n",
      "(0002, 0010) Transfer Syntax UID                 UI: Implicit VR Little Endian\n",
      "(0002, 0012) Implementation Class UID            UI: 1.2.40.0.13.1.1.1\n",
      "(0002, 0013) Implementation Version Name         SH: 'dcm4che-1.4.34'\n",
      "-------------------------------------------------\n",
      "(0008, 0008) Image Type                          CS: ['DERIVED', 'SECONDARY']\n",
      "(0008, 0016) SOP Class UID                       UI: CT Image Storage\n",
      "(0008, 0018) SOP Instance UID                    UI: 61.7.148187188172271071649499494197343400503\n",
      "(0008, 0020) Study Date                          DA: '20140914'\n",
      "(0008, 0030) Study Time                          TM: ''\n",
      "(0008, 0050) Accession Number                    SH: ''\n",
      "(0008, 0060) Modality                            CS: 'CT'\n",
      "(0008, 0064) Conversion Type                     CS: 'DV'\n",
      "(0008, 0090) Referring Physician's Name          PN: ''\n",
      "(0008, 1030) Study Description                   LO: 'abdominal_lymph_nodes'\n",
      "(0008, 103e) Series Description                  LO: 'abdominal_lymph_nodes'\n",
      "(0010, 0010) Patient's Name                      PN: 'ABD_LYMPH_001'\n",
      "(0010, 0020) Patient ID                          LO: 'ABD_LYMPH_001'\n",
      "(0010, 0030) Patient's Birth Date                DA: ''\n",
      "(0010, 0040) Patient's Sex                       CS: 'M'\n",
      "(0010, 1010) Patient's Age                       AS: '073Y'\n",
      "(0012, 0062) Patient Identity Removed            CS: 'YES'\n",
      "(0013, 0010) Private Creator                     LO: 'CTP'\n",
      "(0013, 1010) Private tag data                    UN: b'CT Lymph Nodes'\n",
      "(0013, 1013) Private tag data                    UN: b'93781504'\n",
      "(0018, 0015) Body Part Examined                  CS: 'ABDOMEN'\n",
      "(0020, 000d) Study Instance UID                  UI: 61.7.22285965616260355338860879829667630274\n",
      "(0020, 000e) Series Instance UID                 UI: 61.7.167248355135476067044532759811631626828\n",
      "(0020, 0010) Study ID                            SH: 'ABD_LYMPH_001'\n",
      "(0020, 0011) Series Number                       IS: None\n",
      "(0020, 0013) Instance Number                     IS: '442'\n",
      "(0020, 0032) Image Position (Patient)            DS: [-195.5, -72.5, -2.916000e+02]\n",
      "(0020, 0037) Image Orientation (Patient)         DS: [1, 0, 0, 0, 1, 0]\n",
      "(0020, 0052) Frame of Reference UID              UI: 61.7.64220531409346678914303261124817902939\n",
      "(0028, 0002) Samples per Pixel                   US: 1\n",
      "(0028, 0004) Photometric Interpretation          CS: 'MONOCHROME2'\n",
      "(0028, 0010) Rows                                US: 512\n",
      "(0028, 0011) Columns                             US: 512\n",
      "(0028, 0030) Pixel Spacing                       DS: [0.748046875, 0.748046875]\n",
      "(0028, 0100) Bits Allocated                      US: 16\n",
      "(0028, 0101) Bits Stored                         US: 16\n",
      "(0028, 0102) High Bit                            US: 15\n",
      "(0028, 0103) Pixel Representation                US: 1\n",
      "(0028, 1052) Rescale Intercept                   DS: '0.0'\n",
      "(0028, 1053) Rescale Slope                       DS: '1.0'\n",
      "(7fe0, 0010) Pixel Data                          OW: Array of 524288 elements\n"
     ]
    }
   ],
   "execution_count": 9
  },
  {
   "metadata": {},
   "cell_type": "markdown",
   "source": "Exercise 29b",
   "id": "aa0e3aee7b99463d"
  },
  {
   "metadata": {
    "ExecuteTime": {
     "end_time": "2025-04-05T21:14:59.668359Z",
     "start_time": "2025-04-05T21:14:59.661975Z"
    }
   },
   "cell_type": "code",
   "source": "im = ds.pixel_array",
   "id": "a7d94d3c22b51d90",
   "outputs": [],
   "execution_count": 10
  },
  {
   "metadata": {},
   "cell_type": "markdown",
   "source": "Exercise 30",
   "id": "1fbdb0282d865820"
  },
  {
   "metadata": {
    "ExecuteTime": {
     "end_time": "2025-04-05T21:15:25.914952Z",
     "start_time": "2025-04-05T21:15:25.903750Z"
    }
   },
   "cell_type": "code",
   "source": [
    "print(im.shape)\n",
    "print(im.dtype)"
   ],
   "id": "af22f3c8049df8b9",
   "outputs": [
    {
     "name": "stdout",
     "output_type": "stream",
     "text": [
      "(512, 512)\n",
      "int16\n"
     ]
    }
   ],
   "execution_count": 11
  },
  {
   "metadata": {},
   "cell_type": "markdown",
   "source": "Exercise 30b",
   "id": "549f1bb4e7f8af89"
  },
  {
   "metadata": {
    "ExecuteTime": {
     "end_time": "2025-04-05T21:15:46.334778Z",
     "start_time": "2025-04-05T21:15:46.263263Z"
    }
   },
   "cell_type": "code",
   "source": [
    "plt.imshow(im, vmin=-1000, vmax=1000, cmap='gray')\n",
    "plt.show()"
   ],
   "id": "69f90221b406ad94",
   "outputs": [],
   "execution_count": 12
  }
 ],
 "metadata": {
  "kernelspec": {
   "display_name": "Python 3",
   "language": "python",
   "name": "python3"
  },
  "language_info": {
   "codemirror_mode": {
    "name": "ipython",
    "version": 2
   },
   "file_extension": ".py",
   "mimetype": "text/x-python",
   "name": "python",
   "nbconvert_exporter": "python",
   "pygments_lexer": "ipython2",
   "version": "2.7.6"
  }
 },
 "nbformat": 4,
 "nbformat_minor": 5
}
