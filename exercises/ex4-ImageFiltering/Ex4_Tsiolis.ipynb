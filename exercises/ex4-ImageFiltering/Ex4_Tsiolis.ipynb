{
 "cells": [
  {
   "cell_type": "code",
   "id": "initial_id",
   "metadata": {
    "collapsed": true,
    "ExecuteTime": {
     "end_time": "2025-05-16T10:52:08.539044Z",
     "start_time": "2025-05-16T10:51:40.500064Z"
    }
   },
   "source": [
    "from skimage import io\n",
    "from skimage.color import rgb2gray\n",
    "import matplotlib.pyplot as plt\n",
    "import numpy as np\n",
    "\n",
    "%matplotlib qt"
   ],
   "outputs": [],
   "execution_count": 1
  },
  {
   "metadata": {
    "ExecuteTime": {
     "end_time": "2025-05-16T10:52:11.975691Z",
     "start_time": "2025-05-16T10:52:10.583479Z"
    }
   },
   "cell_type": "code",
   "source": [
    "from scipy.ndimage import correlate\n",
    "input_img = np.arange(25).reshape(5, 5)\n",
    "print(input_img)"
   ],
   "id": "aab868f3e9b0585b",
   "outputs": [
    {
     "name": "stdout",
     "output_type": "stream",
     "text": [
      "[[ 0  1  2  3  4]\n",
      " [ 5  6  7  8  9]\n",
      " [10 11 12 13 14]\n",
      " [15 16 17 18 19]\n",
      " [20 21 22 23 24]]\n"
     ]
    }
   ],
   "execution_count": 2
  },
  {
   "metadata": {
    "ExecuteTime": {
     "end_time": "2025-05-16T10:52:17.635358Z",
     "start_time": "2025-05-16T10:52:17.627699Z"
    }
   },
   "cell_type": "code",
   "source": [
    "weights = [[0, 1, 0],\n",
    "\t\t   [1, 2, 1],\n",
    "\t\t   [0, 1, 0]]\n",
    "\n",
    "res_img = correlate(input_img, weights)"
   ],
   "id": "4c7e4680803cf36e",
   "outputs": [],
   "execution_count": 3
  },
  {
   "metadata": {},
   "cell_type": "markdown",
   "source": "Exercise 1",
   "id": "d9186524dad253cc"
  },
  {
   "metadata": {
    "ExecuteTime": {
     "end_time": "2025-05-16T10:52:27.852121Z",
     "start_time": "2025-05-16T10:52:27.844031Z"
    }
   },
   "cell_type": "code",
   "source": [
    "print(res_img)\n",
    "print(f\"Value (3, 3): \\n {res_img[3, 3]}\")"
   ],
   "id": "af2a03c349e3210a",
   "outputs": [
    {
     "name": "stdout",
     "output_type": "stream",
     "text": [
      "[[  6  11  17  23  28]\n",
      " [ 31  36  42  48  53]\n",
      " [ 61  66  72  78  83]\n",
      " [ 91  96 102 108 113]\n",
      " [116 121 127 133 138]]\n",
      "Value (3, 3): \n",
      " 108\n"
     ]
    }
   ],
   "execution_count": 5
  },
  {
   "metadata": {},
   "cell_type": "markdown",
   "source": "Exercise 2",
   "id": "54e6dc82ff28faca"
  },
  {
   "metadata": {
    "ExecuteTime": {
     "end_time": "2025-05-16T10:55:59.368639Z",
     "start_time": "2025-05-16T10:55:59.092180Z"
    }
   },
   "cell_type": "code",
   "source": [
    "img_reflect = correlate(input_img,weights, mode=\"reflect\")\n",
    "img_constant = correlate(input_img,weights,  mode=\"constant\", cval=10)\n",
    "\n",
    "# Show all images\n",
    "fig, ax = plt.subplots(1, 3, figsize=(15, 5))\n",
    "\n",
    "ax[0].imshow(input_img, cmap=\"gray\")\n",
    "ax[0].set_title(\"Original Image\")\n",
    "ax[0].axis(\"off\")\n",
    "\n",
    "ax[1].imshow(img_reflect, cmap=\"gray\")\n",
    "ax[1].set_title(\"Filtered (reflect padding)\")\n",
    "ax[1].axis(\"off\")\n",
    "\n",
    "ax[2].imshow(img_constant, cmap=\"gray\")\n",
    "ax[2].set_title(\"Filtered (constant padding, cval=10)\")\n",
    "ax[2].axis(\"off\")\n",
    "\n",
    "plt.tight_layout()\n",
    "plt.show()"
   ],
   "id": "73746ae817f0401f",
   "outputs": [],
   "execution_count": 9
  },
  {
   "metadata": {
    "ExecuteTime": {
     "end_time": "2025-05-16T10:56:29.776604Z",
     "start_time": "2025-05-16T10:56:29.769868Z"
    }
   },
   "cell_type": "code",
   "source": "print(img_reflect)",
   "id": "1979f4772cfe2b04",
   "outputs": [
    {
     "name": "stdout",
     "output_type": "stream",
     "text": [
      "[[  6  11  17  23  28]\n",
      " [ 31  36  42  48  53]\n",
      " [ 61  66  72  78  83]\n",
      " [ 91  96 102 108 113]\n",
      " [116 121 127 133 138]]\n"
     ]
    }
   ],
   "execution_count": 10
  },
  {
   "metadata": {
    "ExecuteTime": {
     "end_time": "2025-05-16T10:56:34.944589Z",
     "start_time": "2025-05-16T10:56:34.930890Z"
    }
   },
   "cell_type": "code",
   "source": "print(img_constant)",
   "id": "63770f3184948ce5",
   "outputs": [
    {
     "name": "stdout",
     "output_type": "stream",
     "text": [
      "[[ 26  20  25  30  40]\n",
      " [ 36  36  42  48  54]\n",
      " [ 61  66  72  78  79]\n",
      " [ 86  96 102 108 104]\n",
      " [ 96 110 115 120 110]]\n"
     ]
    }
   ],
   "execution_count": 11
  },
  {
   "metadata": {},
   "cell_type": "markdown",
   "source": "Exercise 3",
   "id": "a461d5a477b4fc04"
  },
  {
   "metadata": {
    "ExecuteTime": {
     "end_time": "2025-05-16T10:59:18.914502Z",
     "start_time": "2025-05-16T10:59:18.823965Z"
    }
   },
   "cell_type": "code",
   "source": [
    "img = io.imread(\"data/Gaussian.png\")\n",
    "\n",
    "# Convert to grayscale if it's RGB\n",
    "if img.ndim == 3:\n",
    "    img = rgb2gray(img)\n",
    "\n",
    "# Try different filter sizes\n",
    "filter_sizes = [5, 10, 20, 40]\n",
    "\n",
    "# Plot original\n",
    "plt.figure(figsize=(5, 5))\n",
    "plt.imshow(img, cmap='gray')\n",
    "plt.title(\"Original Image (with Gaussian Noise)\")\n",
    "plt.axis('off')\n",
    "plt.show()\n"
   ],
   "id": "67aae5ce07de0249",
   "outputs": [],
   "execution_count": 13
  },
  {
   "metadata": {
    "ExecuteTime": {
     "end_time": "2025-05-16T11:01:16.842911Z",
     "start_time": "2025-05-16T11:01:15.894121Z"
    }
   },
   "cell_type": "code",
   "source": [
    "for size in filter_sizes:\n",
    "    weights = np.ones((size, size)) / (size * size)\n",
    "    filtered_img = correlate(img, weights, mode='reflect')\n",
    "\n",
    "    plt.figure(figsize=(5, 5))\n",
    "    plt.imshow(filtered_img, cmap='gray')\n",
    "    plt.title(f\"Mean Filter (size = {size}x{size})\")\n",
    "    plt.axis('off')\n",
    "    plt.show()\n"
   ],
   "id": "39f446a8a2b77aa7",
   "outputs": [],
   "execution_count": 16
  },
  {
   "metadata": {},
   "cell_type": "markdown",
   "source": "Exercise 4",
   "id": "5df235c3b431b372"
  },
  {
   "metadata": {
    "ExecuteTime": {
     "end_time": "2025-05-16T11:03:24.451611Z",
     "start_time": "2025-05-16T11:03:22.746697Z"
    }
   },
   "cell_type": "code",
   "source": [
    "from skimage.filters import median\n",
    "for size in [5, 10, 20]:\n",
    "    footprint = np.ones((size, size))\n",
    "    filtered = median(img, footprint=footprint)\n",
    "\n",
    "    plt.figure(figsize=(5, 5))\n",
    "    plt.imshow(filtered, cmap='gray')\n",
    "    plt.title(f\"Median Filter on Gaussian.png (size = {size}x{size})\")\n",
    "    plt.axis(\"off\")\n",
    "    plt.show()"
   ],
   "id": "57a73cfb5b5d56b2",
   "outputs": [],
   "execution_count": 21
  },
  {
   "metadata": {},
   "cell_type": "markdown",
   "source": "Exercise 5",
   "id": "d91b4cb729d8b580"
  },
  {
   "metadata": {
    "ExecuteTime": {
     "end_time": "2025-05-16T11:04:57.809619Z",
     "start_time": "2025-05-16T11:04:55.198006Z"
    }
   },
   "cell_type": "code",
   "source": [
    "img_sp = io.imread(\"data/SaltPepper.png\")\n",
    "if img_sp.ndim == 3:\n",
    "    img_sp = rgb2gray(img_sp)\n",
    "\n",
    "# Try different filter sizes\n",
    "filter_sizes = [3, 5, 11, 21]\n",
    "\n",
    "for size in filter_sizes:\n",
    "    # Mean filter\n",
    "    mean_weights = np.ones((size, size)) / (size * size)\n",
    "    mean_result = correlate(img_sp, mean_weights, mode='reflect')\n",
    "\n",
    "    # Median filter\n",
    "    median_result = median(img_sp, footprint=np.ones((size, size)))\n",
    "\n",
    "    # Display results\n",
    "    fig, axs = plt.subplots(1, 3, figsize=(15, 5))\n",
    "    axs[0].imshow(img_sp, cmap='gray')\n",
    "    axs[0].set_title(\"Original (Salt-and-Pepper)\")\n",
    "    axs[0].axis(\"off\")\n",
    "\n",
    "    axs[1].imshow(mean_result, cmap='gray')\n",
    "    axs[1].set_title(f\"Mean Filter ({size}x{size})\")\n",
    "    axs[1].axis(\"off\")\n",
    "\n",
    "    axs[2].imshow(median_result, cmap='gray')\n",
    "    axs[2].set_title(f\"Median Filter ({size}x{size})\")\n",
    "    axs[2].axis(\"off\")\n",
    "\n",
    "    plt.tight_layout()\n",
    "    plt.show()"
   ],
   "id": "dfab1f85edf1fce6",
   "outputs": [],
   "execution_count": 23
  },
  {
   "metadata": {},
   "cell_type": "markdown",
   "source": "Exercise 6",
   "id": "bd9f948b778f114d"
  },
  {
   "metadata": {
    "ExecuteTime": {
     "end_time": "2025-05-16T11:06:52.558322Z",
     "start_time": "2025-05-16T11:06:52.246608Z"
    }
   },
   "cell_type": "code",
   "source": [
    "from skimage.filters import gaussian\n",
    "sigmas = [0.5, 1, 2, 4]\n",
    "\n",
    "# Show original image\n",
    "plt.figure(figsize=(5, 5))\n",
    "plt.imshow(img, cmap='gray')\n",
    "plt.title(\"Original Image (with Gaussian noise)\")\n",
    "plt.axis(\"off\")\n",
    "plt.show()\n",
    "\n",
    "# Apply and display Gaussian filter results\n",
    "for sigma in sigmas:\n",
    "    gauss_img = gaussian(img, sigma=sigma)\n",
    "\n",
    "    plt.figure(figsize=(5, 5))\n",
    "    plt.imshow(gauss_img, cmap='gray')\n",
    "    plt.title(f\"Gaussian Filter (σ = {sigma})\")\n",
    "    plt.axis(\"off\")\n",
    "    plt.show()"
   ],
   "id": "a96e93003112c820",
   "outputs": [],
   "execution_count": 25
  },
  {
   "metadata": {},
   "cell_type": "markdown",
   "source": "Exercise 7",
   "id": "a4ca9f4f5ec26c5f"
  },
  {
   "metadata": {
    "ExecuteTime": {
     "end_time": "2025-05-18T11:49:44.321461Z",
     "start_time": "2025-05-18T11:49:33.502654Z"
    }
   },
   "cell_type": "code",
   "source": [
    "from skimage import io, color\n",
    "from skimage.filters import gaussian, median\n",
    "import matplotlib.pyplot as plt\n",
    "import numpy as np\n",
    "\n",
    "# Load the image (your own or car.png)\n",
    "img = io.imread(\"data/car.png\")\n",
    "\n",
    "# Convert to grayscale\n",
    "if img.ndim == 3:\n",
    "    img_gray = color.rgb2gray(img)\n",
    "else:\n",
    "    img_gray = img\n",
    "\n",
    "# Apply large Gaussian filter\n",
    "gaussian_filtered = gaussian(img_gray, sigma=10)\n",
    "\n",
    "# Apply large Median filter\n",
    "footprint = np.ones((21, 21))  # 21x21 median filter\n",
    "median_filtered = median(img_gray, footprint=footprint)\n",
    "\n",
    "# Show results\n",
    "fig, axs = plt.subplots(1, 3, figsize=(18, 6))\n",
    "\n",
    "axs[0].imshow(img_gray, cmap='gray')\n",
    "axs[0].set_title(\"Original Grayscale Image\")\n",
    "axs[0].axis('off')\n",
    "\n",
    "axs[1].imshow(gaussian_filtered, cmap='gray')\n",
    "axs[1].set_title(\"Gaussian Filtered (σ = 10)\")\n",
    "axs[1].axis('off')\n",
    "\n",
    "axs[2].imshow(median_filtered, cmap='gray')\n",
    "axs[2].set_title(\"Median Filtered (21×21)\")\n",
    "axs[2].axis('off')\n",
    "\n",
    "plt.tight_layout()\n",
    "plt.show()\n"
   ],
   "id": "5f7e1d3624b6ce60",
   "outputs": [],
   "execution_count": 26
  },
  {
   "metadata": {},
   "cell_type": "markdown",
   "source": "Exercise 8",
   "id": "956b8613eba2e0a"
  },
  {
   "metadata": {},
   "cell_type": "code",
   "outputs": [],
   "execution_count": null,
   "source": [
    "from skimage.filters import prewitt_h\n",
    "from skimage.filters import prewitt_v\n",
    "from skimage.filters import prewitt"
   ],
   "id": "64f611da9b5f7455"
  },
  {
   "metadata": {
    "ExecuteTime": {
     "end_time": "2025-05-18T11:51:27.563185Z",
     "start_time": "2025-05-18T11:51:25.198150Z"
    }
   },
   "cell_type": "code",
   "source": [
    "from skimage import io, color\n",
    "from skimage.filters import prewitt_h, prewitt_v\n",
    "import matplotlib.pyplot as plt\n",
    "\n",
    "# Load and convert to grayscale\n",
    "img = io.imread(\"data/donald_1.png\")\n",
    "if img.ndim == 3:\n",
    "    img_gray = color.rgb2gray(img)\n",
    "\n",
    "# Apply Prewitt filters\n",
    "edges_h = prewitt_h(img_gray)\n",
    "edges_v = prewitt_v(img_gray)\n",
    "\n",
    "# Show the results without converting to uint8\n",
    "fig, ax = plt.subplots(1, 3, figsize=(15, 5))\n",
    "\n",
    "ax[0].imshow(img_gray, cmap='gray')\n",
    "ax[0].set_title(\"Original Image\")\n",
    "ax[0].axis(\"off\")\n",
    "\n",
    "ax[1].imshow(edges_h, cmap='gray', vmin=-1, vmax=1)\n",
    "ax[1].set_title(\"Prewitt Horizontal (prewitt_h)\")\n",
    "ax[1].axis(\"off\")\n",
    "\n",
    "ax[2].imshow(edges_v, cmap='gray', vmin=-1, vmax=1)\n",
    "ax[2].set_title(\"Prewitt Vertical (prewitt_v)\")\n",
    "ax[2].axis(\"off\")\n",
    "\n",
    "plt.tight_layout()\n",
    "plt.show()\n"
   ],
   "id": "c2a61c322f8cbaf2",
   "outputs": [],
   "execution_count": 27
  },
  {
   "metadata": {},
   "cell_type": "markdown",
   "source": "Exercise 9",
   "id": "240821e7b804b36b"
  },
  {
   "metadata": {
    "ExecuteTime": {
     "end_time": "2025-05-18T11:52:51.684320Z",
     "start_time": "2025-05-18T11:52:50.894177Z"
    }
   },
   "cell_type": "code",
   "source": [
    "from skimage import io, color, filters\n",
    "import numpy as np\n",
    "import matplotlib.pyplot as plt\n",
    "\n",
    "# Load and convert to grayscale\n",
    "img = io.imread(\"data/donald_1.png\")\n",
    "if img.ndim == 3:\n",
    "    img = color.rgb2gray(img)\n",
    "\n",
    "# Apply Prewitt filters\n",
    "gx = filters.prewitt_h(img)\n",
    "gy = filters.prewitt_v(img)\n",
    "\n",
    "# Combine gradients to get edge magnitude\n",
    "magnitude = np.sqrt(gx**2 + gy**2)\n",
    "\n",
    "# Show results\n",
    "fig, ax = plt.subplots(1, 2, figsize=(12, 5))\n",
    "ax[0].imshow(img, cmap='gray')\n",
    "ax[0].set_title(\"Original Image\")\n",
    "ax[0].axis(\"off\")\n",
    "\n",
    "ax[1].imshow(magnitude, cmap='gray')\n",
    "ax[1].set_title(\"Prewitt Edge Magnitude\")\n",
    "ax[1].axis(\"off\")\n",
    "\n",
    "plt.tight_layout()\n",
    "plt.show()\n"
   ],
   "id": "a901192bd77c903",
   "outputs": [],
   "execution_count": 28
  },
  {
   "metadata": {},
   "cell_type": "markdown",
   "source": "Exercise 10",
   "id": "6678bd97d0f24a82"
  },
  {
   "metadata": {
    "ExecuteTime": {
     "end_time": "2025-05-18T11:55:17.729017Z",
     "start_time": "2025-05-18T11:55:14.890996Z"
    }
   },
   "cell_type": "code",
   "source": [
    "from skimage import io, color, filters\n",
    "from skimage.filters import median, gaussian, threshold_otsu, prewitt_h, prewitt_v\n",
    "import numpy as np\n",
    "import matplotlib.pyplot as plt\n",
    "\n",
    "# Step 1: Load CT image\n",
    "img = io.imread(\"data/ElbowCTSlice.png\")\n",
    "if img.ndim == 3:\n",
    "    img = color.rgb2gray(img)\n",
    "\n",
    "# Step 2: Denoising — Try Gaussian or Median here\n",
    "# Try changing sigma or footprint size to experiment\n",
    "sigma = 2\n",
    "filtered_img = gaussian(img, sigma=sigma)\n",
    "# OR try:\n",
    "# from skimage.morphology import square\n",
    "# filtered_img = median(img, footprint=square(5))\n",
    "\n",
    "# Step 3: Compute gradient magnitude using Prewitt\n",
    "gx = prewitt_h(filtered_img)\n",
    "gy = prewitt_v(filtered_img)\n",
    "edge_img = np.sqrt(gx**2 + gy**2)\n",
    "\n",
    "# Step 4: Visualize gradient image with scaling\n",
    "min_val = edge_img.min()\n",
    "max_val = edge_img.max()\n",
    "plt.figure(figsize=(6, 5))\n",
    "io.imshow(edge_img, vmin=min_val, vmax=max_val, cmap=\"terrain\")\n",
    "plt.title(\"Prewitt Gradient Magnitude\")\n",
    "plt.axis(\"off\")\n",
    "plt.show()\n",
    "\n",
    "# Step 5: Threshold using Otsu's method\n",
    "T = threshold_otsu(edge_img)\n",
    "binary_edges = edge_img > T\n",
    "\n",
    "# Step 6: Show final binary edge map\n",
    "plt.figure(figsize=(6, 5))\n",
    "io.imshow((binary_edges), cmap=\"gray\")\n",
    "plt.title(f\"Binary Edges (Otsu T = {T:.4f})\")\n",
    "plt.axis(\"off\")\n",
    "plt.show()\n"
   ],
   "id": "58b0b8e264f2aa8b",
   "outputs": [],
   "execution_count": 29
  },
  {
   "metadata": {},
   "cell_type": "markdown",
   "source": "Exercise 11",
   "id": "46e4a523a3146345"
  },
  {
   "metadata": {
    "ExecuteTime": {
     "end_time": "2025-05-18T11:56:45.718169Z",
     "start_time": "2025-05-18T11:55:49.592575Z"
    }
   },
   "cell_type": "code",
   "source": "!python Ex4_video_filtering.py 1 0 0",
   "id": "49d43bff19d18c7",
   "outputs": [
    {
     "name": "stdout",
     "output_type": "stream",
     "text": [
      "Starting image capture\r\n",
      "Opening connection to camera\r\n",
      "Starting camera loop\r\n",
      "Can't receive frame. Exiting ...\r\n",
      "Stopping image loop\r\n"
     ]
    }
   ],
   "execution_count": 30
  },
  {
   "metadata": {},
   "cell_type": "markdown",
   "source": "Exercise 12",
   "id": "17a0c05a15149985"
  },
  {
   "metadata": {},
   "cell_type": "code",
   "outputs": [],
   "execution_count": null,
   "source": "!python Ex4_video_filtering.py 1 1 1",
   "id": "cd98d4386df93873"
  }
 ],
 "metadata": {
  "kernelspec": {
   "display_name": "Python 3",
   "language": "python",
   "name": "python3"
  },
  "language_info": {
   "codemirror_mode": {
    "name": "ipython",
    "version": 2
   },
   "file_extension": ".py",
   "mimetype": "text/x-python",
   "name": "python",
   "nbconvert_exporter": "python",
   "pygments_lexer": "ipython2",
   "version": "2.7.6"
  }
 },
 "nbformat": 4,
 "nbformat_minor": 5
}
